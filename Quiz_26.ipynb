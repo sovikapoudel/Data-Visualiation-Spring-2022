{
  "nbformat": 4,
  "nbformat_minor": 0,
  "metadata": {
    "colab": {
      "name": "Quiz-26.ipynb",
      "provenance": [],
      "collapsed_sections": [],
      "authorship_tag": "ABX9TyMDKlVW525cvRjT6E8Iq6Qj",
      "include_colab_link": true
    },
    "kernelspec": {
      "name": "python3",
      "display_name": "Python 3"
    },
    "language_info": {
      "name": "python"
    }
  },
  "cells": [
    {
      "cell_type": "markdown",
      "metadata": {
        "id": "view-in-github",
        "colab_type": "text"
      },
      "source": [
        "<a href=\"https://colab.research.google.com/github/sovikapoudel/Data-Visualiation-Spring-2022/blob/main/Quiz_26.ipynb\" target=\"_parent\"><img src=\"https://colab.research.google.com/assets/colab-badge.svg\" alt=\"Open In Colab\"/></a>"
      ]
    },
    {
      "cell_type": "markdown",
      "source": [
        "\n",
        "\n",
        "\n",
        "##Recreate the three boxplots in this lecture using seaborn. Add the jittered points to the final boxplot.\n",
        "\n"
      ],
      "metadata": {
        "id": "n39ywnebUJoT"
      }
    },
    {
      "cell_type": "code",
      "execution_count": 97,
      "metadata": {
        "colab": {
          "base_uri": "https://localhost:8080/",
          "height": 317
        },
        "id": "GK40G2HaT_Zr",
        "outputId": "c2f6bcd5-c397-474b-edad-5665a1cdbaac"
      },
      "outputs": [
        {
          "output_type": "execute_result",
          "data": {
            "text/plain": [
              "   Unnamed: 0 activity_day    workout_type  distance  time  calories  \\\n",
              "0           0   2022-01-01       Freestyle      9.30    77       123   \n",
              "1           1   2022-01-01       Freestyle      3.44    96        55   \n",
              "2           2   2022-01-01  Indoor Cycling      6.34    85        33   \n",
              "3           3   2022-01-01         Walking      7.91    42        82   \n",
              "4           4   2022-01-01      Open Water      8.99    36       131   \n",
              "\n",
              "   total_steps  avg_speed  avg_cadence  max_cadence  ... max_pace min_pace  \\\n",
              "0          NaN      18.88       168.54       138.30  ...      NaN      NaN   \n",
              "1          NaN      29.65       125.92       292.81  ...      NaN      NaN   \n",
              "2          NaN      17.85        81.93       323.69  ...      NaN      NaN   \n",
              "3       1571.0      22.10        29.63       180.16  ...    28:58    07:58   \n",
              "4          NaN      25.83        64.55       342.89  ...      NaN      NaN   \n",
              "\n",
              "  avg_heart_rate  max_heart_rate  min_heart_rate  vo2_max(%)  aerobic(%)  \\\n",
              "0          112.5           122.0             103          19          28   \n",
              "1          111.0           122.0             100          42          28   \n",
              "2           95.0            90.0             100           1          32   \n",
              "3           83.0            85.0              81           3          22   \n",
              "4          138.0           166.0             110           7           0   \n",
              "\n",
              "   anaerobic(%)  intensive(%)  light(%)  \n",
              "0             2             7        50  \n",
              "1             2            29        88  \n",
              "2             0            22        43  \n",
              "3             0            24        65  \n",
              "4             5            21        88  \n",
              "\n",
              "[5 rows x 21 columns]"
            ],
            "text/html": [
              "\n",
              "  <div id=\"df-3f4bf582-bd5b-4722-a143-4c9c683058a3\">\n",
              "    <div class=\"colab-df-container\">\n",
              "      <div>\n",
              "<style scoped>\n",
              "    .dataframe tbody tr th:only-of-type {\n",
              "        vertical-align: middle;\n",
              "    }\n",
              "\n",
              "    .dataframe tbody tr th {\n",
              "        vertical-align: top;\n",
              "    }\n",
              "\n",
              "    .dataframe thead th {\n",
              "        text-align: right;\n",
              "    }\n",
              "</style>\n",
              "<table border=\"1\" class=\"dataframe\">\n",
              "  <thead>\n",
              "    <tr style=\"text-align: right;\">\n",
              "      <th></th>\n",
              "      <th>Unnamed: 0</th>\n",
              "      <th>activity_day</th>\n",
              "      <th>workout_type</th>\n",
              "      <th>distance</th>\n",
              "      <th>time</th>\n",
              "      <th>calories</th>\n",
              "      <th>total_steps</th>\n",
              "      <th>avg_speed</th>\n",
              "      <th>avg_cadence</th>\n",
              "      <th>max_cadence</th>\n",
              "      <th>...</th>\n",
              "      <th>max_pace</th>\n",
              "      <th>min_pace</th>\n",
              "      <th>avg_heart_rate</th>\n",
              "      <th>max_heart_rate</th>\n",
              "      <th>min_heart_rate</th>\n",
              "      <th>vo2_max(%)</th>\n",
              "      <th>aerobic(%)</th>\n",
              "      <th>anaerobic(%)</th>\n",
              "      <th>intensive(%)</th>\n",
              "      <th>light(%)</th>\n",
              "    </tr>\n",
              "  </thead>\n",
              "  <tbody>\n",
              "    <tr>\n",
              "      <th>0</th>\n",
              "      <td>0</td>\n",
              "      <td>2022-01-01</td>\n",
              "      <td>Freestyle</td>\n",
              "      <td>9.30</td>\n",
              "      <td>77</td>\n",
              "      <td>123</td>\n",
              "      <td>NaN</td>\n",
              "      <td>18.88</td>\n",
              "      <td>168.54</td>\n",
              "      <td>138.30</td>\n",
              "      <td>...</td>\n",
              "      <td>NaN</td>\n",
              "      <td>NaN</td>\n",
              "      <td>112.5</td>\n",
              "      <td>122.0</td>\n",
              "      <td>103</td>\n",
              "      <td>19</td>\n",
              "      <td>28</td>\n",
              "      <td>2</td>\n",
              "      <td>7</td>\n",
              "      <td>50</td>\n",
              "    </tr>\n",
              "    <tr>\n",
              "      <th>1</th>\n",
              "      <td>1</td>\n",
              "      <td>2022-01-01</td>\n",
              "      <td>Freestyle</td>\n",
              "      <td>3.44</td>\n",
              "      <td>96</td>\n",
              "      <td>55</td>\n",
              "      <td>NaN</td>\n",
              "      <td>29.65</td>\n",
              "      <td>125.92</td>\n",
              "      <td>292.81</td>\n",
              "      <td>...</td>\n",
              "      <td>NaN</td>\n",
              "      <td>NaN</td>\n",
              "      <td>111.0</td>\n",
              "      <td>122.0</td>\n",
              "      <td>100</td>\n",
              "      <td>42</td>\n",
              "      <td>28</td>\n",
              "      <td>2</td>\n",
              "      <td>29</td>\n",
              "      <td>88</td>\n",
              "    </tr>\n",
              "    <tr>\n",
              "      <th>2</th>\n",
              "      <td>2</td>\n",
              "      <td>2022-01-01</td>\n",
              "      <td>Indoor Cycling</td>\n",
              "      <td>6.34</td>\n",
              "      <td>85</td>\n",
              "      <td>33</td>\n",
              "      <td>NaN</td>\n",
              "      <td>17.85</td>\n",
              "      <td>81.93</td>\n",
              "      <td>323.69</td>\n",
              "      <td>...</td>\n",
              "      <td>NaN</td>\n",
              "      <td>NaN</td>\n",
              "      <td>95.0</td>\n",
              "      <td>90.0</td>\n",
              "      <td>100</td>\n",
              "      <td>1</td>\n",
              "      <td>32</td>\n",
              "      <td>0</td>\n",
              "      <td>22</td>\n",
              "      <td>43</td>\n",
              "    </tr>\n",
              "    <tr>\n",
              "      <th>3</th>\n",
              "      <td>3</td>\n",
              "      <td>2022-01-01</td>\n",
              "      <td>Walking</td>\n",
              "      <td>7.91</td>\n",
              "      <td>42</td>\n",
              "      <td>82</td>\n",
              "      <td>1571.0</td>\n",
              "      <td>22.10</td>\n",
              "      <td>29.63</td>\n",
              "      <td>180.16</td>\n",
              "      <td>...</td>\n",
              "      <td>28:58</td>\n",
              "      <td>07:58</td>\n",
              "      <td>83.0</td>\n",
              "      <td>85.0</td>\n",
              "      <td>81</td>\n",
              "      <td>3</td>\n",
              "      <td>22</td>\n",
              "      <td>0</td>\n",
              "      <td>24</td>\n",
              "      <td>65</td>\n",
              "    </tr>\n",
              "    <tr>\n",
              "      <th>4</th>\n",
              "      <td>4</td>\n",
              "      <td>2022-01-01</td>\n",
              "      <td>Open Water</td>\n",
              "      <td>8.99</td>\n",
              "      <td>36</td>\n",
              "      <td>131</td>\n",
              "      <td>NaN</td>\n",
              "      <td>25.83</td>\n",
              "      <td>64.55</td>\n",
              "      <td>342.89</td>\n",
              "      <td>...</td>\n",
              "      <td>NaN</td>\n",
              "      <td>NaN</td>\n",
              "      <td>138.0</td>\n",
              "      <td>166.0</td>\n",
              "      <td>110</td>\n",
              "      <td>7</td>\n",
              "      <td>0</td>\n",
              "      <td>5</td>\n",
              "      <td>21</td>\n",
              "      <td>88</td>\n",
              "    </tr>\n",
              "  </tbody>\n",
              "</table>\n",
              "<p>5 rows × 21 columns</p>\n",
              "</div>\n",
              "      <button class=\"colab-df-convert\" onclick=\"convertToInteractive('df-3f4bf582-bd5b-4722-a143-4c9c683058a3')\"\n",
              "              title=\"Convert this dataframe to an interactive table.\"\n",
              "              style=\"display:none;\">\n",
              "        \n",
              "  <svg xmlns=\"http://www.w3.org/2000/svg\" height=\"24px\"viewBox=\"0 0 24 24\"\n",
              "       width=\"24px\">\n",
              "    <path d=\"M0 0h24v24H0V0z\" fill=\"none\"/>\n",
              "    <path d=\"M18.56 5.44l.94 2.06.94-2.06 2.06-.94-2.06-.94-.94-2.06-.94 2.06-2.06.94zm-11 1L8.5 8.5l.94-2.06 2.06-.94-2.06-.94L8.5 2.5l-.94 2.06-2.06.94zm10 10l.94 2.06.94-2.06 2.06-.94-2.06-.94-.94-2.06-.94 2.06-2.06.94z\"/><path d=\"M17.41 7.96l-1.37-1.37c-.4-.4-.92-.59-1.43-.59-.52 0-1.04.2-1.43.59L10.3 9.45l-7.72 7.72c-.78.78-.78 2.05 0 2.83L4 21.41c.39.39.9.59 1.41.59.51 0 1.02-.2 1.41-.59l7.78-7.78 2.81-2.81c.8-.78.8-2.07 0-2.86zM5.41 20L4 18.59l7.72-7.72 1.47 1.35L5.41 20z\"/>\n",
              "  </svg>\n",
              "      </button>\n",
              "      \n",
              "  <style>\n",
              "    .colab-df-container {\n",
              "      display:flex;\n",
              "      flex-wrap:wrap;\n",
              "      gap: 12px;\n",
              "    }\n",
              "\n",
              "    .colab-df-convert {\n",
              "      background-color: #E8F0FE;\n",
              "      border: none;\n",
              "      border-radius: 50%;\n",
              "      cursor: pointer;\n",
              "      display: none;\n",
              "      fill: #1967D2;\n",
              "      height: 32px;\n",
              "      padding: 0 0 0 0;\n",
              "      width: 32px;\n",
              "    }\n",
              "\n",
              "    .colab-df-convert:hover {\n",
              "      background-color: #E2EBFA;\n",
              "      box-shadow: 0px 1px 2px rgba(60, 64, 67, 0.3), 0px 1px 3px 1px rgba(60, 64, 67, 0.15);\n",
              "      fill: #174EA6;\n",
              "    }\n",
              "\n",
              "    [theme=dark] .colab-df-convert {\n",
              "      background-color: #3B4455;\n",
              "      fill: #D2E3FC;\n",
              "    }\n",
              "\n",
              "    [theme=dark] .colab-df-convert:hover {\n",
              "      background-color: #434B5C;\n",
              "      box-shadow: 0px 1px 3px 1px rgba(0, 0, 0, 0.15);\n",
              "      filter: drop-shadow(0px 1px 2px rgba(0, 0, 0, 0.3));\n",
              "      fill: #FFFFFF;\n",
              "    }\n",
              "  </style>\n",
              "\n",
              "      <script>\n",
              "        const buttonEl =\n",
              "          document.querySelector('#df-3f4bf582-bd5b-4722-a143-4c9c683058a3 button.colab-df-convert');\n",
              "        buttonEl.style.display =\n",
              "          google.colab.kernel.accessAllowed ? 'block' : 'none';\n",
              "\n",
              "        async function convertToInteractive(key) {\n",
              "          const element = document.querySelector('#df-3f4bf582-bd5b-4722-a143-4c9c683058a3');\n",
              "          const dataTable =\n",
              "            await google.colab.kernel.invokeFunction('convertToInteractive',\n",
              "                                                     [key], {});\n",
              "          if (!dataTable) return;\n",
              "\n",
              "          const docLinkHtml = 'Like what you see? Visit the ' +\n",
              "            '<a target=\"_blank\" href=https://colab.research.google.com/notebooks/data_table.ipynb>data table notebook</a>'\n",
              "            + ' to learn more about interactive tables.';\n",
              "          element.innerHTML = '';\n",
              "          dataTable['output_type'] = 'display_data';\n",
              "          await google.colab.output.renderOutput(dataTable, element);\n",
              "          const docLink = document.createElement('div');\n",
              "          docLink.innerHTML = docLinkHtml;\n",
              "          element.appendChild(docLink);\n",
              "        }\n",
              "      </script>\n",
              "    </div>\n",
              "  </div>\n",
              "  "
            ]
          },
          "metadata": {},
          "execution_count": 97
        }
      ],
      "source": [
        "import pandas as pa\n",
        "import seaborn  as sns\n",
        "\n",
        "df = pa.read_csv('https://raw.githubusercontent.com/nurfnick/Data_Viz/main/Activity_Dataset_V1.csv')\n",
        "df.head()"
      ]
    },
    {
      "cell_type": "code",
      "source": [
        "df1 = df.drop([\"Unnamed: 0\", \"total_steps\", \"activity_day\",\"avg_cadence\",\"max_cadence\", \"max_pace\",\t\"min_pace\",\t\"avg_heart_rate\",\t\"max_heart_rate\",\t\"min_heart_rate\",\t\"vo2_max(%)\",\t\"aerobic(%)\",\t\"anaerobic(%)\", \"intensive(%)\", \"light(%)\"], axis=1)\n",
        "sns.boxplot(data=df1)\n",
        "\n",
        "#drop function will drop the column that we don't want to add into the graph.Probably not the best idea when large number of column, or there mus tbe some other ways.\n",
        "#Also this only works on numeric value as you can see even if I have not dropped the workout_type, it is not plotting."
      ],
      "metadata": {
        "colab": {
          "base_uri": "https://localhost:8080/",
          "height": 283
        },
        "id": "RZAImqnxVyZH",
        "outputId": "5397c274-9e4f-4817-a44f-7997d2bbb2e9"
      },
      "execution_count": 98,
      "outputs": [
        {
          "output_type": "execute_result",
          "data": {
            "text/plain": [
              "<matplotlib.axes._subplots.AxesSubplot at 0x7f9bd21ff4d0>"
            ]
          },
          "metadata": {},
          "execution_count": 98
        },
        {
          "output_type": "display_data",
          "data": {
            "text/plain": [
              "<Figure size 432x288 with 1 Axes>"
            ],
            "image/png": "[encoded data removed]"
          },
          "metadata": {
            "needs_background": "light"
          }
        }
      ]
    },
    {
      "cell_type": "markdown",
      "source": [
        ""
      ],
      "metadata": {
        "id": "ABKnPgmSb4BB"
      }
    },
    {
      "cell_type": "code",
      "source": [
        "sns.boxplot(column = 'calories',by = 'workout_type') #this doesnot work using seaborn library. I am trying different way in next part."
      ],
      "metadata": {
        "colab": {
          "base_uri": "https://localhost:8080/",
          "height": 286
        },
        "id": "6ENIbHzMe0qk",
        "outputId": "ee067593-d69a-4fde-d4bb-9811631bdf9a"
      },
      "execution_count": 99,
      "outputs": [
        {
          "output_type": "execute_result",
          "data": {
            "text/plain": [
              "<matplotlib.axes._subplots.AxesSubplot at 0x7f9bd60f4090>"
            ]
          },
          "metadata": {},
          "execution_count": 99
        },
        {
          "output_type": "display_data",
          "data": {
            "text/plain": [
              "<Figure size 432x288 with 1 Axes>"
            ],
            "image/png": "[encoded data removed]"
          },
          "metadata": {
            "needs_background": "light"
          }
        }
      ]
    },
    {
      "cell_type": "code",
      "source": [
        "df3 = pa.read_csv('https://raw.githubusercontent.com/nurfnick/Data_Viz/main/Activity_Dataset_V1.csv')\n",
        "sns.boxplot(data = df3, y = 'workout_type', x = 'time') #This worked pretty well however, I don't like how the x-axis lable is starting. If it's startng from 0 then, distacne from 0-20 and 20-40 are not same."
      ],
      "metadata": {
        "colab": {
          "base_uri": "https://localhost:8080/",
          "height": 296
        },
        "id": "ORbzo-PrcKk7",
        "outputId": "d192b382-dc8e-498a-e592-3d86bf77adb9"
      },
      "execution_count": 100,
      "outputs": [
        {
          "output_type": "execute_result",
          "data": {
            "text/plain": [
              "<matplotlib.axes._subplots.AxesSubplot at 0x7f9bd2176e90>"
            ]
          },
          "metadata": {},
          "execution_count": 100
        },
        {
          "output_type": "display_data",
          "data": {
            "text/plain": [
              "<Figure size 432x288 with 1 Axes>"
            ],
            "image/png": "[encoded data removed]"
          },
          "metadata": {
            "needs_background": "light"
          }
        }
      ]
    },
    {
      "cell_type": "code",
      "source": [
        "ax = sns.boxplot(data = df, x = 'workout_type', y = 'calories') #this time the workout type is in x-axis and the numbers seems correct. \n",
        "ax.set_xticklabels(ax.get_xticklabels(),rotation = 75) #unline the boxplot in matplotlib library, to change/rotate the x-axis label, we we use the get_xticklable function and give the rotation value"
      ],
      "metadata": {
        "colab": {
          "base_uri": "https://localhost:8080/",
          "height": 546
        },
        "id": "cfJO1UlKigRP",
        "outputId": "52a39fca-67ac-4dd1-9b72-a710bca66be5"
      },
      "execution_count": 101,
      "outputs": [
        {
          "output_type": "execute_result",
          "data": {
            "text/plain": [
              "[Text(0, 0, 'Freestyle'),\n",
              " Text(0, 0, 'Indoor Cycling'),\n",
              " Text(0, 0, 'Walking'),\n",
              " Text(0, 0, 'Open Water'),\n",
              " Text(0, 0, 'Outdoor Cycling'),\n",
              " Text(0, 0, 'Outdoor Running'),\n",
              " Text(0, 0, 'Trail Run'),\n",
              " Text(0, 0, 'Pool Swimming'),\n",
              " Text(0, 0, 'Trekking'),\n",
              " Text(0, 0, 'Treadmill'),\n",
              " Text(0, 0, 'Cricket')]"
            ]
          },
          "metadata": {},
          "execution_count": 101
        },
        {
          "output_type": "display_data",
          "data": {
            "text/plain": [
              "<Figure size 432x288 with 1 Axes>"
            ],
            "image/png": "[encoded data removed]"
          },
          "metadata": {
            "needs_background": "light"
          }
        }
      ]
    },
    {
      "cell_type": "code",
      "source": [
        "sns.boxplot(column = 'calories',by = 'workout_type',vert = False) #this simply doesnot work with seaborn."
      ],
      "metadata": {
        "colab": {
          "base_uri": "https://localhost:8080/",
          "height": 286
        },
        "id": "FG5MJqtskD6R",
        "outputId": "7cc7798e-1270-43aa-b6d2-844d57ebe512"
      },
      "execution_count": 102,
      "outputs": [
        {
          "output_type": "execute_result",
          "data": {
            "text/plain": [
              "<matplotlib.axes._subplots.AxesSubplot at 0x7f9bd1e43b90>"
            ]
          },
          "metadata": {},
          "execution_count": 102
        },
        {
          "output_type": "display_data",
          "data": {
            "text/plain": [
              "<Figure size 432x288 with 1 Axes>"
            ],
            "image/png": "[encoded data removed]"
          },
          "metadata": {
            "needs_background": "light"
          }
        }
      ]
    },
    {
      "cell_type": "code",
      "source": [
        "rgb= [221,56,16] #picked it using a color tool from ECU website\n",
        "rgbscaled = []\n",
        "for color in rgb:\n",
        "  rgbscaled.append(color/221)\n",
        "rgbscaled #returns ECU color Code"
      ],
      "metadata": {
        "colab": {
          "base_uri": "https://localhost:8080/"
        },
        "id": "vNKmZ9N4kSuo",
        "outputId": "493d782b-66f6-45a4-9fd5-51292ca22193"
      },
      "execution_count": 108,
      "outputs": [
        {
          "output_type": "execute_result",
          "data": {
            "text/plain": [
              "[1.0, 0.25339366515837103, 0.07239819004524888]"
            ]
          },
          "metadata": {},
          "execution_count": 108
        }
      ]
    },
    {
      "cell_type": "code",
      "source": [
        "sns.boxplot(data = df, y = 'workout_type', x = 'calories', color = rgbscaled) # looks like the colorpicker worked this time! "
      ],
      "metadata": {
        "colab": {
          "base_uri": "https://localhost:8080/",
          "height": 296
        },
        "id": "TSomxLZVkLFn",
        "outputId": "8ddc1a65-4f6a-4fb4-a8ba-02cbff268fc4"
      },
      "execution_count": 104,
      "outputs": [
        {
          "output_type": "execute_result",
          "data": {
            "text/plain": [
              "<matplotlib.axes._subplots.AxesSubplot at 0x7f9bd1dfea90>"
            ]
          },
          "metadata": {},
          "execution_count": 104
        },
        {
          "output_type": "display_data",
          "data": {
            "text/plain": [
              "<Figure size 432x288 with 1 Axes>"
            ],
            "image/png": "[encoded data removed]"
          },
          "metadata": {
            "needs_background": "light"
          }
        }
      ]
    },
    {
      "cell_type": "code",
      "source": [
        "pip install webcolors #just playing around with the colors.\n"
      ],
      "metadata": {
        "colab": {
          "base_uri": "https://localhost:8080/"
        },
        "id": "GeI5Pkurls2N",
        "outputId": "dc1ff2b1-8988-4f50-efe8-72e0f2c070d1"
      },
      "execution_count": 113,
      "outputs": [
        {
          "output_type": "stream",
          "name": "stdout",
          "text": [
            "Collecting webcolors\n",
            "  Downloading webcolors-1.11.1-py3-none-any.whl (9.9 kB)\n",
            "Installing collected packages: webcolors\n",
            "Successfully installed webcolors-1.11.1\n"
          ]
        }
      ]
    },
    {
      "cell_type": "code",
      "source": [
        "import webcolors\n",
        "from webcolors import rgb_to_name\n",
        "ECU = rgb_to_name((221,56,16))\n",
        "print(ECU) #for this code to work it has to be defined color name in css3. Let's try for defined color code in next step to see if it works.\n",
        "\n",
        "\n"
      ],
      "metadata": {
        "colab": {
          "base_uri": "https://localhost:8080/",
          "height": 381
        },
        "id": "cEtleePnmG8v",
        "outputId": "77efce52-8327-4e49-ce6c-20cd758f6328"
      },
      "execution_count": 153,
      "outputs": [
        {
          "output_type": "error",
          "ename": "ValueError",
          "evalue": "ignored",
          "traceback": [
            "\u001b[0;31m---------------------------------------------------------------------------\u001b[0m",
            "\u001b[0;31mValueError\u001b[0m                                Traceback (most recent call last)",
            "\u001b[0;32m<ipython-input-153-153d91fda8b3>\u001b[0m in \u001b[0;36m<module>\u001b[0;34m()\u001b[0m\n\u001b[1;32m      1\u001b[0m \u001b[0;32mimport\u001b[0m \u001b[0mwebcolors\u001b[0m\u001b[0;34m\u001b[0m\u001b[0;34m\u001b[0m\u001b[0m\n\u001b[1;32m      2\u001b[0m \u001b[0;32mfrom\u001b[0m \u001b[0mwebcolors\u001b[0m \u001b[0;32mimport\u001b[0m \u001b[0mrgb_to_name\u001b[0m\u001b[0;34m\u001b[0m\u001b[0;34m\u001b[0m\u001b[0m\n\u001b[0;32m----> 3\u001b[0;31m \u001b[0mECU\u001b[0m \u001b[0;34m=\u001b[0m \u001b[0mrgb_to_name\u001b[0m\u001b[0;34m(\u001b[0m\u001b[0;34m(\u001b[0m\u001b[0;36m221\u001b[0m\u001b[0;34m,\u001b[0m\u001b[0;36m56\u001b[0m\u001b[0;34m,\u001b[0m\u001b[0;36m16\u001b[0m\u001b[0;34m)\u001b[0m\u001b[0;34m)\u001b[0m\u001b[0;34m\u001b[0m\u001b[0;34m\u001b[0m\u001b[0m\n\u001b[0m\u001b[1;32m      4\u001b[0m \u001b[0mprint\u001b[0m\u001b[0;34m(\u001b[0m\u001b[0mECU\u001b[0m\u001b[0;34m)\u001b[0m\u001b[0;34m\u001b[0m\u001b[0;34m\u001b[0m\u001b[0m\n\u001b[1;32m      5\u001b[0m \u001b[0;31m#webcolors.rgb_to_name((221,56,0))\u001b[0m\u001b[0;34m\u001b[0m\u001b[0;34m\u001b[0m\u001b[0;34m\u001b[0m\u001b[0m\n",
            "\u001b[0;32m/usr/local/lib/python3.7/dist-packages/webcolors.py\u001b[0m in \u001b[0;36mrgb_to_name\u001b[0;34m(rgb_triplet, spec)\u001b[0m\n\u001b[1;32m    469\u001b[0m \u001b[0;34m\u001b[0m\u001b[0m\n\u001b[1;32m    470\u001b[0m     \"\"\"\n\u001b[0;32m--> 471\u001b[0;31m     \u001b[0;32mreturn\u001b[0m \u001b[0mhex_to_name\u001b[0m\u001b[0;34m(\u001b[0m\u001b[0mrgb_to_hex\u001b[0m\u001b[0;34m(\u001b[0m\u001b[0mnormalize_integer_triplet\u001b[0m\u001b[0;34m(\u001b[0m\u001b[0mrgb_triplet\u001b[0m\u001b[0;34m)\u001b[0m\u001b[0;34m)\u001b[0m\u001b[0;34m,\u001b[0m \u001b[0mspec\u001b[0m\u001b[0;34m=\u001b[0m\u001b[0mspec\u001b[0m\u001b[0;34m)\u001b[0m\u001b[0;34m\u001b[0m\u001b[0;34m\u001b[0m\u001b[0m\n\u001b[0m\u001b[1;32m    472\u001b[0m \u001b[0;34m\u001b[0m\u001b[0m\n\u001b[1;32m    473\u001b[0m \u001b[0;34m\u001b[0m\u001b[0m\n",
            "\u001b[0;32m/usr/local/lib/python3.7/dist-packages/webcolors.py\u001b[0m in \u001b[0;36mhex_to_name\u001b[0;34m(hex_value, spec)\u001b[0m\n\u001b[1;32m    429\u001b[0m     }[spec].get(normalized)\n\u001b[1;32m    430\u001b[0m     \u001b[0;32mif\u001b[0m \u001b[0mname\u001b[0m \u001b[0;32mis\u001b[0m \u001b[0;32mNone\u001b[0m\u001b[0;34m:\u001b[0m\u001b[0;34m\u001b[0m\u001b[0;34m\u001b[0m\u001b[0m\n\u001b[0;32m--> 431\u001b[0;31m         \u001b[0;32mraise\u001b[0m \u001b[0mValueError\u001b[0m\u001b[0;34m(\u001b[0m\u001b[0;34m\"'{}' has no defined color name in {}\"\u001b[0m\u001b[0;34m.\u001b[0m\u001b[0mformat\u001b[0m\u001b[0;34m(\u001b[0m\u001b[0mhex_value\u001b[0m\u001b[0;34m,\u001b[0m \u001b[0mspec\u001b[0m\u001b[0;34m)\u001b[0m\u001b[0;34m)\u001b[0m\u001b[0;34m\u001b[0m\u001b[0;34m\u001b[0m\u001b[0m\n\u001b[0m\u001b[1;32m    432\u001b[0m     \u001b[0;32mreturn\u001b[0m \u001b[0mname\u001b[0m\u001b[0;34m\u001b[0m\u001b[0;34m\u001b[0m\u001b[0m\n\u001b[1;32m    433\u001b[0m \u001b[0;34m\u001b[0m\u001b[0m\n",
            "\u001b[0;31mValueError\u001b[0m: '#dd3810' has no defined color name in css3"
          ]
        }
      ]
    },
    {
      "cell_type": "code",
      "source": [
        "ECU = rgb_to_name((220,20,60))\n",
        "print(ECU) #It worked here! Because the color code is defined"
      ],
      "metadata": {
        "colab": {
          "base_uri": "https://localhost:8080/"
        },
        "id": "KwdghgTSqEFA",
        "outputId": "0752635c-e765-46a5-a694-6dd943e4b99e"
      },
      "execution_count": 155,
      "outputs": [
        {
          "output_type": "stream",
          "name": "stdout",
          "text": [
            "crimson\n"
          ]
        }
      ]
    },
    {
      "cell_type": "code",
      "source": [
        "df.query(\"workout_type=='Trekking'\") #gives the result for only trekking in workout type."
      ],
      "metadata": {
        "id": "U_CQ4lfTXNdm"
      },
      "execution_count": null,
      "outputs": []
    }
  ]
}