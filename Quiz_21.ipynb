{
  "nbformat": 4,
  "nbformat_minor": 0,
  "metadata": {
    "colab": {
      "name": "Quiz-21.ipynb",
      "provenance": [],
      "authorship_tag": "ABX9TyPyk1RJgxbElM1YYudTgCEI",
      "include_colab_link": true
    },
    "kernelspec": {
      "name": "python3",
      "display_name": "Python 3"
    },
    "language_info": {
      "name": "python"
    }
  },
  "cells": [
    {
      "cell_type": "markdown",
      "metadata": {
        "id": "view-in-github",
        "colab_type": "text"
      },
      "source": [
        "<a href=\"https://colab.research.google.com/github/sovikapoudel/Data-Visualiation-Spring-2022/blob/main/Quiz_21.ipynb\" target=\"_parent\"><img src=\"https://colab.research.google.com/assets/colab-badge.svg\" alt=\"Open In Colab\"/></a>"
      ]
    },
    {
      "cell_type": "code",
      "execution_count": null,
      "metadata": {
        "id": "UwYpsK8okjm3"
      },
      "outputs": [],
      "source": [
        " "
      ]
    },
    {
      "cell_type": "markdown",
      "source": [
        "\n",
        "1. Examine John Snow's map of cholera outbreak in 1854 for 'graphical excellence'.  Discuss the highlights of the graphic.\n",
        "2. Find a modern reference and dicuss the excellence displayed.  Include a link and image in your report."
      ],
      "metadata": {
        "id": "nouzDPBtqpfb"
      }
    },
    {
      "cell_type": "markdown",
      "source": [
        "\n",
        "### Pulling up the graphical visualization of John Snow's map of Cholera\n",
        "\n",
        "![john Snow](https://upload.wikimedia.org/wikipedia/commons/2/27/Snow-cholera-map-1.jpg)"
      ],
      "metadata": {
        "id": "owDS_Gy3qgzR"
      }
    },
    {
      "cell_type": "markdown",
      "source": [
        "The map above shows the outbreak of waterborne disease Cholera that has spreaded throughout the city. This map was created by the Physician Dr. John Snow to find the cause of the outbreak. According to the colleted dat from various sources, It "
      ],
      "metadata": {
        "id": "9FSFPjGiq8rt"
      }
    }
  ]
}