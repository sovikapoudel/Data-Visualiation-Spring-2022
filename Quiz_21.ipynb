{
  "nbformat": 4,
  "nbformat_minor": 0,
  "metadata": {
    "colab": {
      "name": "Quiz-21.ipynb",
      "provenance": [],
      "authorship_tag": "ABX9TyN2kJt40OUZAkdPv0CJ8Oj8",
      "include_colab_link": true
    },
    "kernelspec": {
      "name": "python3",
      "display_name": "Python 3"
    },
    "language_info": {
      "name": "python"
    }
  },
  "cells": [
    {
      "cell_type": "markdown",
      "metadata": {
        "id": "view-in-github",
        "colab_type": "text"
      },
      "source": [
        "<a href=\"https://colab.research.google.com/github/sovikapoudel/Data-Visualiation-Spring-2022/blob/main/Quiz_21.ipynb\" target=\"_parent\"><img src=\"https://colab.research.google.com/assets/colab-badge.svg\" alt=\"Open In Colab\"/></a>"
      ]
    },
    {
      "cell_type": "code",
      "execution_count": null,
      "metadata": {
        "id": "UwYpsK8okjm3"
      },
      "outputs": [],
      "source": [
        " "
      ]
    },
    {
      "cell_type": "markdown",
      "source": [
        "\n",
        "1. Examine John Snow's map of cholera outbreak in 1854 for 'graphical excellence'.  Discuss the highlights of the graphic.\n",
        "2. Find a modern reference and dicuss the excellence displayed.  Include a link and image in your report."
      ],
      "metadata": {
        "id": "nouzDPBtqpfb"
      }
    },
    {
      "cell_type": "markdown",
      "source": [
        "\n",
        "### Pulling up the graphical visualization of John Snow's map of Cholera\n",
        "\n",
        "![john Snow](https://upload.wikimedia.org/wikipedia/commons/2/27/Snow-cholera-map-1.jpg)"
      ],
      "metadata": {
        "id": "owDS_Gy3qgzR"
      }
    },
    {
      "cell_type": "markdown",
      "source": [
        "###The map above shows the outbreak of the waterborne disease, Cholera that was spread at soho district of London.  In this map we can see that there has been used a very special Analysis that used the geographical data to find out the level of severity of Cholera. This is accurate statistical approach on finding where and why the disease was spreading. Following the map, Dr. John Snow found a contaminated water pump located at Broad Street being the source of the Outbreak. Here in the Map, each black bar represents the numbers of death and looking at the intensity of the bar we can see it is more clustered around the water pump at Broad Street. Some of the bar are scattered through out the city which is because of the water supply. \n",
        "\n",
        "The reference link I found has more in details: https://www.theguardian.com/news/datablog/2013/mar/15/john-snow-cholera-map"
      ],
      "metadata": {
        "id": "9FSFPjGiq8rt"
      }
    },
    {
      "cell_type": "markdown",
      "source": [
        "## 2. Find a modern reference and dicuss the excellence displayed.  Include a link and image in your report.\n",
        "\n",
        "### - The modern reference to the map above could be using a Heat Map symbology which uses the color attributes and schemes to indicate the approximate values. graphical representation of numerical data, where individual data points contained in the data set are represented using different colors. It is best when there is large numbers of data and point distribution. One of the modern days example would be COVID data analysis.\n",
        "\n",
        "###The picture below shows the number of COVID cases in United States which could be represented through the intensity of the color used for the visualization."
      ],
      "metadata": {
        "id": "zQYs2Pyz1ANP"
      }
    },
    {
      "cell_type": "markdown",
      "source": [
        " <img src= \"https://www.mayoclinic.org/~/media/web/gbs/shared/images/socialmedia-metadata/covid-maps/united-states-twitter.png?v=9\" >"
      ],
      "metadata": {
        "id": "VIMdl8zu3j6n"
      }
    },
    {
      "cell_type": "code",
      "source": [
        ""
      ],
      "metadata": {
        "id": "0NhclYZD3Fg6"
      },
      "execution_count": null,
      "outputs": []
    }
  ]
}