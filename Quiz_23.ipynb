{
  "nbformat": 4,
  "nbformat_minor": 0,
  "metadata": {
    "colab": {
      "name": "Quiz 23",
      "provenance": [],
      "authorship_tag": "ABX9TyNYFa8zLQQx+gaBfLuj5BkE",
      "include_colab_link": true
    },
    "kernelspec": {
      "name": "python3",
      "display_name": "Python 3"
    },
    "language_info": {
      "name": "python"
    }
  },
  "cells": [
    {
      "cell_type": "markdown",
      "metadata": {
        "id": "view-in-github",
        "colab_type": "text"
      },
      "source": [
        "<a href=\"https://colab.research.google.com/github/sovikapoudel/Data-Visualiation-Spring-2022/blob/main/Quiz_23.ipynb\" target=\"_parent\"><img src=\"https://colab.research.google.com/assets/colab-badge.svg\" alt=\"Open In Colab\"/></a>"
      ]
    },
    {
      "cell_type": "markdown",
      "source": [
        ""
      ],
      "metadata": {
        "id": "Z3I9XRMaLSpi"
      }
    },
    {
      "cell_type": "markdown",
      "source": [
        "\n",
        "\n",
        "![Composition of Honey](http://drive.google.com/uc?export=view&id=1tGChtZt-cPGE12oSxiHAgQj5rBFB4nmA)\n",
        "\n",
        "https://www.dreamstime.com/composition-bee-honey-vector-illustration-labeled-food-structure-scheme-educational-percentage-graphic-organic-glucose-image187241266\n",
        "\n",
        "###First of all, this graph says it a pie chart, but this does not represent the pie chart at all because of it’s hexagonal shape. However, if it has displayed the total of 100 percent value of the data which needed to be in the pie chart. Again, if it was done in the bar graph or a proper pie chart with color labeled separately then it would have been easy to read and understand. They have used the different color for different composition. And the color is not repeated which is okay. However, this graphic visualization is not excellent. Also, the honey spilling from the chart makes it no pie chart at all.\n",
        "\n",
        "\n",
        " \n",
        "![Crime Rate](http://drive.google.com/uc?export=view&id=17cJRwlZrSybt0VSoqH3lInR8Zwl0_fjz)\n",
        " \n",
        "\n",
        "https://viz.wtf/post/658882425666011136/the-x-axis-is-supposed-to-be-backwards-right\n",
        "\n",
        "### It bad to see such big TV channel that lots of people follow are getting a misleading information just because it used a messed-up graph. At first, I thought it was okay but looking it for few seconds I realized the x-axis are labeled backward which completely misled the information. It says the violent crime surge but if we look in the graph it only started surging from June 2020 to April 2021. But if we looked at the whole graph then the current percentage is still lower than the previous one.\n",
        "##Now it’s so confusing if the error is in the x-axis being backward or the crime rate is really surging.\n",
        "\n",
        " \n",
        "![Election](http://drive.google.com/uc?export=view&id=1qskvDCC10DOOVM6VQgSP-vKeSe2bBwdT)\n",
        "\n",
        "https://viz.wtf/image/643484719208677376\n",
        "\n",
        "### Last one I am picking on the Portugal presidential election. It’s smartly showed the picture of the candidate in the bar chart however the color of the bar chart is completely messing up with it. Also, it did label the percentage but in the first one the label is inside the bar while other has on the top of it.  The size and ratio of bars are completely messed up as we can clearly see 2.9 is almost same as 6.2. There is no uniformity in the graph. This could have been a very simple and excellent graph as there was not much data to include.\n"
      ],
      "metadata": {
        "id": "FM9No-P9LNmj"
      }
    },
    {
      "cell_type": "code",
      "execution_count": null,
      "metadata": {
        "id": "b-bOeLpQLLEG"
      },
      "outputs": [],
      "source": [
        ""
      ]
    }
  ]
}