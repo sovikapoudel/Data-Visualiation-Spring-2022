{
  "nbformat": 4,
  "nbformat_minor": 0,
  "metadata": {
    "colab": {
      "name": " Reading_Data_From_Web.ipynb",
      "provenance": [],
      "authorship_tag": "ABX9TyMlwZn9bXgJJjqQXOk1HOHk",
      "include_colab_link": true
    },
    "kernelspec": {
      "name": "python3",
      "display_name": "Python 3"
    },
    "language_info": {
      "name": "python"
    }
  },
  "cells": [
    {
      "cell_type": "markdown",
      "metadata": {
        "id": "view-in-github",
        "colab_type": "text"
      },
      "source": [
        "<a href=\"https://colab.research.google.com/github/sovikapoudel/Data-Visualiation-Spring-2022/blob/main/Reading_Data_From_Web.ipynb\" target=\"_parent\"><img src=\"https://colab.research.google.com/assets/colab-badge.svg\" alt=\"Open In Colab\"/></a>"
      ]
    },
    {
      "cell_type": "markdown",
      "source": [
        "<h1><center>Data Visualization Spring 2022</center></h1>\n",
        "\n",
        "---\n",
        "\n",
        "###Assignment: 4\n",
        "Name: Sovika Poudel <br>\n",
        "Year: Junior <br>\n",
        "Course: CPSMA-4313 Data Processing Visualization \n",
        "### For this part of Assignment I am going to read the data from the web."
      ],
      "metadata": {
        "id": "RXeF5-p49LVC"
      }
    },
    {
      "cell_type": "code",
      "source": [
        "\n",
        "import requests\n",
        "import pandas as pa\n",
        "from bs4 import BeautifulSoup"
      ],
      "metadata": {
        "id": "7Avx15lk9OYt"
      },
      "execution_count": null,
      "outputs": []
    },
    {
      "cell_type": "markdown",
      "source": [
        "Beautiful Soup is a python package for parsing HTML and XML documents used to extract data from HTML for web scraping."
      ],
      "metadata": {
        "id": "98GSUHPwWT46"
      }
    },
    {
      "cell_type": "markdown",
      "source": [
        "I am going collect the data from my one of the favorite TV show."
      ],
      "metadata": {
        "id": "WzXKro1KVpie"
      }
    },
    {
      "cell_type": "code",
      "source": [
        "r = requests.get('https://en.wikipedia.org/wiki/The_Office_(American_TV_series)')\n",
        "html_contents = r.text\n",
        "html_soup = BeautifulSoup(html_contents,\"lxml\")\n",
        "#html_soup"
      ],
      "metadata": {
        "id": "wR03Cxi7LriT"
      },
      "execution_count": null,
      "outputs": []
    },
    {
      "cell_type": "markdown",
      "source": [
        "Let's see the title of my favorite TV-Show"
      ],
      "metadata": {
        "id": "AIKeg66nXbtv"
      }
    },
    {
      "cell_type": "code",
      "source": [
        "html_soup.title"
      ],
      "metadata": {
        "colab": {
          "base_uri": "https://localhost:8080/"
        },
        "id": "AisoHEs8XV1u",
        "outputId": "38b45e13-cd18-43d7-9806-41a04cc9b4fd"
      },
      "execution_count": null,
      "outputs": [
        {
          "output_type": "execute_result",
          "data": {
            "text/plain": [
              "<title>The Office (American TV series) - Wikipedia</title>"
            ]
          },
          "metadata": {},
          "execution_count": 29
        }
      ]
    },
    {
      "cell_type": "markdown",
      "source": [
        "There it is! \"The Office\" It's one of my favorite."
      ],
      "metadata": {
        "id": "2TcBJHFgXwgY"
      }
    },
    {
      "cell_type": "markdown",
      "source": [
        ""
      ],
      "metadata": {
        "id": "V8s6p_KMXVmL"
      }
    },
    {
      "cell_type": "code",
      "source": [
        "links = html_soup.table.find_all('a')\n",
        "URLS_List =[] ##Here I am just defining the varialble so that the list are be store in this later. [] will store them as a list\n",
        "\n",
        "for link in links:\n",
        "  URLS_List.append('https://en.wikipedia.org' + link['href'])\n",
        "\n",
        "URLS_List \n"
      ],
      "metadata": {
        "colab": {
          "base_uri": "https://localhost:8080/"
        },
        "id": "IcQKmn3EYTOS",
        "outputId": "56c65fbe-4384-4c38-d3be-373fd111c392"
      },
      "execution_count": 39,
      "outputs": [
        {
          "output_type": "execute_result",
          "data": {
            "text/plain": [
              "['https://en.wikipedia.org/wiki/File:The_Office_US_logo.svg',\n",
              " 'https://en.wikipedia.org/wiki/Mockumentary',\n",
              " 'https://en.wikipedia.org/wiki/Workplace_comedy',\n",
              " 'https://en.wikipedia.org/wiki/Cringe_comedy',\n",
              " 'https://en.wikipedia.org/wiki/The_Office_(British_TV_series)',\n",
              " 'https://en.wikipedia.org/wiki/Ricky_Gervais',\n",
              " 'https://en.wikipedia.org/wiki/Stephen_Merchant',\n",
              " 'https://en.wikipedia.org/wiki/Greg_Daniels',\n",
              " 'https://en.wikipedia.org/wiki/Steve_Carell',\n",
              " 'https://en.wikipedia.org/wiki/Rainn_Wilson',\n",
              " 'https://en.wikipedia.org/wiki/John_Krasinski',\n",
              " 'https://en.wikipedia.org/wiki/Jenna_Fischer',\n",
              " 'https://en.wikipedia.org/wiki/B._J._Novak',\n",
              " 'https://en.wikipedia.org/wiki/Melora_Hardin',\n",
              " 'https://en.wikipedia.org/wiki/David_Denman',\n",
              " 'https://en.wikipedia.org/wiki/Leslie_David_Baker',\n",
              " 'https://en.wikipedia.org/wiki/Brian_Baumgartner',\n",
              " 'https://en.wikipedia.org/wiki/Kate_Flannery',\n",
              " 'https://en.wikipedia.org/wiki/Angela_Kinsey',\n",
              " 'https://en.wikipedia.org/wiki/Oscar_Nunez',\n",
              " 'https://en.wikipedia.org/wiki/Phyllis_Smith',\n",
              " 'https://en.wikipedia.org/wiki/Ed_Helms',\n",
              " 'https://en.wikipedia.org/wiki/Mindy_Kaling',\n",
              " 'https://en.wikipedia.org/wiki/Paul_Lieberstein',\n",
              " 'https://en.wikipedia.org/wiki/Creed_Bratton',\n",
              " 'https://en.wikipedia.org/wiki/Craig_Robinson_(actor)',\n",
              " 'https://en.wikipedia.org/wiki/Ellie_Kemper',\n",
              " 'https://en.wikipedia.org/wiki/Zach_Woods',\n",
              " 'https://en.wikipedia.org/wiki/Amy_Ryan',\n",
              " 'https://en.wikipedia.org/wiki/James_Spader',\n",
              " 'https://en.wikipedia.org/wiki/Catherine_Tate',\n",
              " 'https://en.wikipedia.org/wiki/Clark_Duke',\n",
              " 'https://en.wikipedia.org/wiki/Jake_Lacy',\n",
              " 'https://en.wikipedia.org/wiki/Jay_Ferguson_(American_musician)',\n",
              " 'https://en.wikipedia.org/wiki/List_of_The_Office_(American_TV_series)_episodes',\n",
              " 'https://en.wikipedia.org/wiki/Ben_Silverman',\n",
              " 'https://en.wikipedia.org/wiki/Howard_Klein_(television_producer)',\n",
              " 'https://en.wikipedia.org/wiki/Ken_Kwapis',\n",
              " 'https://en.wikipedia.org/wiki/Jennifer_Celotta',\n",
              " 'https://en.wikipedia.org/wiki/Brent_Forrester',\n",
              " 'https://en.wikipedia.org/wiki/Dan_Sterling',\n",
              " 'https://en.wikipedia.org/wiki/Michael_Schur',\n",
              " 'https://en.wikipedia.org/wiki/Lee_Eisenberg',\n",
              " 'https://en.wikipedia.org/wiki/Gene_Stupnitsky',\n",
              " 'https://en.wikipedia.org/wiki/Justin_Spitzer',\n",
              " 'https://en.wikipedia.org/wiki/Charlie_Grandy',\n",
              " 'https://en.wikipedia.org/wiki/Warren_Lieberstein',\n",
              " 'https://en.wikipedia.org/wiki/Halsted_Sullivan',\n",
              " 'https://en.wikipedia.org/wiki/Steve_Hely',\n",
              " 'https://en.wikipedia.org/wiki/David_Rogers_(film_editor)',\n",
              " 'https://en.wikipedia.org/wiki/Aaron_Shure',\n",
              " 'https://en.wikipedia.org/wiki/Randall_Einhorn',\n",
              " 'https://en.wikipedia.org/wiki/David_Rogers_(film_editor)',\n",
              " 'https://en.wikipedia.org/wiki/Dean_Holland',\n",
              " 'https://en.wikipedia.org/wiki/Claire_Scanlon',\n",
              " 'https://en.wikipedia.org/wiki/Single-camera_setup',\n",
              " 'https://en.wikipedia.org/wiki/Deedle-Dee_Productions',\n",
              " 'https://en.wikipedia.org/wiki/3_Arts_Entertainment',\n",
              " 'https://en.wikipedia.org/wiki/Reveille_Productions',\n",
              " 'https://en.wikipedia.org/wiki/Shine_America',\n",
              " 'https://en.wikipedia.org/wiki/NBC_Universal_Television_Studio',\n",
              " 'https://en.wikipedia.org/wiki/Universal_Media_Studios',\n",
              " 'https://en.wikipedia.org/wiki/Universal_Television',\n",
              " 'https://en.wikipedia.org/wiki/NBCUniversal_Television_Distribution',\n",
              " 'https://en.wikipedia.org/wiki/NBC',\n",
              " 'https://en.wikipedia.org/wiki/1080i',\n",
              " 'https://en.wikipedia.org/wiki/HDTV',\n",
              " 'https://en.wikipedia.org/wiki/Dolby_Digital',\n",
              " 'https://en.wikipedia.org/wiki/The_Office_(British_TV_series)',\n",
              " 'https://en.wikipedia.orghttp://www.nbc.com/the-office/']"
            ]
          },
          "metadata": {},
          "execution_count": 39
        }
      ]
    },
    {
      "cell_type": "markdown",
      "source": [
        "I can see in the list, there are the hyperlinks for all the main characters of the Series, and the links for studio and production homes."
      ],
      "metadata": {
        "id": "iQcmmOjT9OMQ"
      }
    }
  ]
}