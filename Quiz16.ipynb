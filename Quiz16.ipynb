{
  "nbformat": 4,
  "nbformat_minor": 0,
  "metadata": {
    "colab": {
      "name": "Quiz16.ipynb",
      "provenance": [],
      "collapsed_sections": [],
      "authorship_tag": "ABX9TyOLbEMousZ5jmQF4Ox2YKVR",
      "include_colab_link": true
    },
    "kernelspec": {
      "name": "python3",
      "display_name": "Python 3"
    },
    "language_info": {
      "name": "python"
    }
  },
  "cells": [
    {
      "cell_type": "markdown",
      "metadata": {
        "id": "view-in-github",
        "colab_type": "text"
      },
      "source": [
        "<a href=\"https://colab.research.google.com/github/sovikapoudel/Data-Visualiation-Spring-2022/blob/main/Quiz16.ipynb\" target=\"_parent\"><img src=\"https://colab.research.google.com/assets/colab-badge.svg\" alt=\"Open In Colab\"/></a>"
      ]
    },
    {
      "cell_type": "code",
      "execution_count": null,
      "metadata": {
        "colab": {
          "base_uri": "https://localhost:8080/",
          "height": 520
        },
        "id": "NaPfWzXKr1qS",
        "outputId": "49735fdf-a7a2-41d5-b3aa-eea4eeead03f"
      },
      "outputs": [
        {
          "output_type": "execute_result",
          "data": {
            "text/html": [
              "\n",
              "  <div id=\"df-85a76ebb-179a-41b3-a667-a1a572a26165\">\n",
              "    <div class=\"colab-df-container\">\n",
              "      <div>\n",
              "<style scoped>\n",
              "    .dataframe tbody tr th:only-of-type {\n",
              "        vertical-align: middle;\n",
              "    }\n",
              "\n",
              "    .dataframe tbody tr th {\n",
              "        vertical-align: top;\n",
              "    }\n",
              "\n",
              "    .dataframe thead th {\n",
              "        text-align: right;\n",
              "    }\n",
              "</style>\n",
              "<table border=\"1\" class=\"dataframe\">\n",
              "  <thead>\n",
              "    <tr style=\"text-align: right;\">\n",
              "      <th></th>\n",
              "      <th>id</th>\n",
              "      <th>room_id/id</th>\n",
              "      <th>noted_date</th>\n",
              "      <th>temp</th>\n",
              "      <th>out/in</th>\n",
              "    </tr>\n",
              "  </thead>\n",
              "  <tbody>\n",
              "    <tr>\n",
              "      <th>0</th>\n",
              "      <td>__export__.temp_log_196134_bd201015</td>\n",
              "      <td>Room Admin</td>\n",
              "      <td>08-12-2018 09:30</td>\n",
              "      <td>29</td>\n",
              "      <td>In</td>\n",
              "    </tr>\n",
              "    <tr>\n",
              "      <th>1</th>\n",
              "      <td>__export__.temp_log_196131_7bca51bc</td>\n",
              "      <td>Room Admin</td>\n",
              "      <td>08-12-2018 09:30</td>\n",
              "      <td>29</td>\n",
              "      <td>In</td>\n",
              "    </tr>\n",
              "    <tr>\n",
              "      <th>2</th>\n",
              "      <td>__export__.temp_log_196127_522915e3</td>\n",
              "      <td>Room Admin</td>\n",
              "      <td>08-12-2018 09:29</td>\n",
              "      <td>41</td>\n",
              "      <td>Out</td>\n",
              "    </tr>\n",
              "    <tr>\n",
              "      <th>3</th>\n",
              "      <td>__export__.temp_log_196128_be0919cf</td>\n",
              "      <td>Room Admin</td>\n",
              "      <td>08-12-2018 09:29</td>\n",
              "      <td>41</td>\n",
              "      <td>Out</td>\n",
              "    </tr>\n",
              "    <tr>\n",
              "      <th>4</th>\n",
              "      <td>__export__.temp_log_196126_d30b72fb</td>\n",
              "      <td>Room Admin</td>\n",
              "      <td>08-12-2018 09:29</td>\n",
              "      <td>31</td>\n",
              "      <td>In</td>\n",
              "    </tr>\n",
              "    <tr>\n",
              "      <th>5</th>\n",
              "      <td>__export__.temp_log_196125_b0fa0b41</td>\n",
              "      <td>Room Admin</td>\n",
              "      <td>08-12-2018 09:29</td>\n",
              "      <td>31</td>\n",
              "      <td>In</td>\n",
              "    </tr>\n",
              "    <tr>\n",
              "      <th>6</th>\n",
              "      <td>__export__.temp_log_196121_01544d45</td>\n",
              "      <td>Room Admin</td>\n",
              "      <td>08-12-2018 09:28</td>\n",
              "      <td>29</td>\n",
              "      <td>In</td>\n",
              "    </tr>\n",
              "    <tr>\n",
              "      <th>7</th>\n",
              "      <td>__export__.temp_log_196122_f8b80a9f</td>\n",
              "      <td>Room Admin</td>\n",
              "      <td>08-12-2018 09:28</td>\n",
              "      <td>29</td>\n",
              "      <td>In</td>\n",
              "    </tr>\n",
              "    <tr>\n",
              "      <th>8</th>\n",
              "      <td>__export__.temp_log_196111_6b7a0848</td>\n",
              "      <td>Room Admin</td>\n",
              "      <td>08-12-2018 09:26</td>\n",
              "      <td>29</td>\n",
              "      <td>In</td>\n",
              "    </tr>\n",
              "    <tr>\n",
              "      <th>9</th>\n",
              "      <td>__export__.temp_log_196112_e134aebd</td>\n",
              "      <td>Room Admin</td>\n",
              "      <td>08-12-2018 09:26</td>\n",
              "      <td>29</td>\n",
              "      <td>In</td>\n",
              "    </tr>\n",
              "    <tr>\n",
              "      <th>10</th>\n",
              "      <td>__export__.temp_log_196108_4a983c7e</td>\n",
              "      <td>Room Admin</td>\n",
              "      <td>08-12-2018 09:25</td>\n",
              "      <td>42</td>\n",
              "      <td>Out</td>\n",
              "    </tr>\n",
              "    <tr>\n",
              "      <th>11</th>\n",
              "      <td>__export__.temp_log_196108_4a983c7e</td>\n",
              "      <td>Room Admin</td>\n",
              "      <td>08-12-2018 09:25</td>\n",
              "      <td>42</td>\n",
              "      <td>Out</td>\n",
              "    </tr>\n",
              "    <tr>\n",
              "      <th>12</th>\n",
              "      <td>__export__.temp_log_196101_d5ec7633</td>\n",
              "      <td>Room Admin</td>\n",
              "      <td>08-12-2018 09:24</td>\n",
              "      <td>29</td>\n",
              "      <td>In</td>\n",
              "    </tr>\n",
              "    <tr>\n",
              "      <th>13</th>\n",
              "      <td>__export__.temp_log_196099_3b8ef67b</td>\n",
              "      <td>Room Admin</td>\n",
              "      <td>08-12-2018 09:24</td>\n",
              "      <td>29</td>\n",
              "      <td>In</td>\n",
              "    </tr>\n",
              "    <tr>\n",
              "      <th>14</th>\n",
              "      <td>__export__.temp_log_196095_788b2c27</td>\n",
              "      <td>Room Admin</td>\n",
              "      <td>08-12-2018 09:22</td>\n",
              "      <td>29</td>\n",
              "      <td>In</td>\n",
              "    </tr>\n",
              "  </tbody>\n",
              "</table>\n",
              "</div>\n",
              "      <button class=\"colab-df-convert\" onclick=\"convertToInteractive('df-85a76ebb-179a-41b3-a667-a1a572a26165')\"\n",
              "              title=\"Convert this dataframe to an interactive table.\"\n",
              "              style=\"display:none;\">\n",
              "        \n",
              "  <svg xmlns=\"http://www.w3.org/2000/svg\" height=\"24px\"viewBox=\"0 0 24 24\"\n",
              "       width=\"24px\">\n",
              "    <path d=\"M0 0h24v24H0V0z\" fill=\"none\"/>\n",
              "    <path d=\"M18.56 5.44l.94 2.06.94-2.06 2.06-.94-2.06-.94-.94-2.06-.94 2.06-2.06.94zm-11 1L8.5 8.5l.94-2.06 2.06-.94-2.06-.94L8.5 2.5l-.94 2.06-2.06.94zm10 10l.94 2.06.94-2.06 2.06-.94-2.06-.94-.94-2.06-.94 2.06-2.06.94z\"/><path d=\"M17.41 7.96l-1.37-1.37c-.4-.4-.92-.59-1.43-.59-.52 0-1.04.2-1.43.59L10.3 9.45l-7.72 7.72c-.78.78-.78 2.05 0 2.83L4 21.41c.39.39.9.59 1.41.59.51 0 1.02-.2 1.41-.59l7.78-7.78 2.81-2.81c.8-.78.8-2.07 0-2.86zM5.41 20L4 18.59l7.72-7.72 1.47 1.35L5.41 20z\"/>\n",
              "  </svg>\n",
              "      </button>\n",
              "      \n",
              "  <style>\n",
              "    .colab-df-container {\n",
              "      display:flex;\n",
              "      flex-wrap:wrap;\n",
              "      gap: 12px;\n",
              "    }\n",
              "\n",
              "    .colab-df-convert {\n",
              "      background-color: #E8F0FE;\n",
              "      border: none;\n",
              "      border-radius: 50%;\n",
              "      cursor: pointer;\n",
              "      display: none;\n",
              "      fill: #1967D2;\n",
              "      height: 32px;\n",
              "      padding: 0 0 0 0;\n",
              "      width: 32px;\n",
              "    }\n",
              "\n",
              "    .colab-df-convert:hover {\n",
              "      background-color: #E2EBFA;\n",
              "      box-shadow: 0px 1px 2px rgba(60, 64, 67, 0.3), 0px 1px 3px 1px rgba(60, 64, 67, 0.15);\n",
              "      fill: #174EA6;\n",
              "    }\n",
              "\n",
              "    [theme=dark] .colab-df-convert {\n",
              "      background-color: #3B4455;\n",
              "      fill: #D2E3FC;\n",
              "    }\n",
              "\n",
              "    [theme=dark] .colab-df-convert:hover {\n",
              "      background-color: #434B5C;\n",
              "      box-shadow: 0px 1px 3px 1px rgba(0, 0, 0, 0.15);\n",
              "      filter: drop-shadow(0px 1px 2px rgba(0, 0, 0, 0.3));\n",
              "      fill: #FFFFFF;\n",
              "    }\n",
              "  </style>\n",
              "\n",
              "      <script>\n",
              "        const buttonEl =\n",
              "          document.querySelector('#df-85a76ebb-179a-41b3-a667-a1a572a26165 button.colab-df-convert');\n",
              "        buttonEl.style.display =\n",
              "          google.colab.kernel.accessAllowed ? 'block' : 'none';\n",
              "\n",
              "        async function convertToInteractive(key) {\n",
              "          const element = document.querySelector('#df-85a76ebb-179a-41b3-a667-a1a572a26165');\n",
              "          const dataTable =\n",
              "            await google.colab.kernel.invokeFunction('convertToInteractive',\n",
              "                                                     [key], {});\n",
              "          if (!dataTable) return;\n",
              "\n",
              "          const docLinkHtml = 'Like what you see? Visit the ' +\n",
              "            '<a target=\"_blank\" href=https://colab.research.google.com/notebooks/data_table.ipynb>data table notebook</a>'\n",
              "            + ' to learn more about interactive tables.';\n",
              "          element.innerHTML = '';\n",
              "          dataTable['output_type'] = 'display_data';\n",
              "          await google.colab.output.renderOutput(dataTable, element);\n",
              "          const docLink = document.createElement('div');\n",
              "          docLink.innerHTML = docLinkHtml;\n",
              "          element.appendChild(docLink);\n",
              "        }\n",
              "      </script>\n",
              "    </div>\n",
              "  </div>\n",
              "  "
            ],
            "text/plain": [
              "                                     id  room_id/id  ... temp  out/in\n",
              "0   __export__.temp_log_196134_bd201015  Room Admin  ...   29      In\n",
              "1   __export__.temp_log_196131_7bca51bc  Room Admin  ...   29      In\n",
              "2   __export__.temp_log_196127_522915e3  Room Admin  ...   41     Out\n",
              "3   __export__.temp_log_196128_be0919cf  Room Admin  ...   41     Out\n",
              "4   __export__.temp_log_196126_d30b72fb  Room Admin  ...   31      In\n",
              "5   __export__.temp_log_196125_b0fa0b41  Room Admin  ...   31      In\n",
              "6   __export__.temp_log_196121_01544d45  Room Admin  ...   29      In\n",
              "7   __export__.temp_log_196122_f8b80a9f  Room Admin  ...   29      In\n",
              "8   __export__.temp_log_196111_6b7a0848  Room Admin  ...   29      In\n",
              "9   __export__.temp_log_196112_e134aebd  Room Admin  ...   29      In\n",
              "10  __export__.temp_log_196108_4a983c7e  Room Admin  ...   42     Out\n",
              "11  __export__.temp_log_196108_4a983c7e  Room Admin  ...   42     Out\n",
              "12  __export__.temp_log_196101_d5ec7633  Room Admin  ...   29      In\n",
              "13  __export__.temp_log_196099_3b8ef67b  Room Admin  ...   29      In\n",
              "14  __export__.temp_log_196095_788b2c27  Room Admin  ...   29      In\n",
              "\n",
              "[15 rows x 5 columns]"
            ]
          },
          "metadata": {},
          "execution_count": 2
        }
      ],
      "source": [
        "import pandas as pa\n",
        "import numpy as np\n",
        "\n",
        "IOT_df = pa.read_csv('https://raw.githubusercontent.com/nurfnick/Data_Viz/main/IOT-temp.csv')\n",
        "\n",
        "IOT_df.head(15)"
      ]
    },
    {
      "cell_type": "code",
      "source": [
        "IOT_df.dtypes"
      ],
      "metadata": {
        "colab": {
          "base_uri": "https://localhost:8080/"
        },
        "id": "E3skpRCNtxHf",
        "outputId": "96700b26-8f3c-41bf-d477-df1386454e12"
      },
      "execution_count": null,
      "outputs": [
        {
          "output_type": "execute_result",
          "data": {
            "text/plain": [
              "id            object\n",
              "room_id/id    object\n",
              "noted_date    object\n",
              "temp           int64\n",
              "out/in        object\n",
              "dtype: object"
            ]
          },
          "metadata": {},
          "execution_count": 3
        }
      ]
    },
    {
      "cell_type": "markdown",
      "source": [
        "###1. Convert the noted_date into DateTime, it is in day-month-Year Hour:Minute format.\n",
        "\n"
      ],
      "metadata": {
        "id": "Hf3VE11C4-gi"
      }
    },
    {
      "cell_type": "code",
      "source": [
        "IOT_df.noted_date=pa.to_datetime(IOT_df.noted_date, format = '%d-%m-%Y %H:%M')\n",
        "#I noticed the date is not in a pandas datetime date. So, this code will change the date into into panda datetime format)\n",
        "IOT_df"
      ],
      "metadata": {
        "id": "nGTP6h3DyERO",
        "colab": {
          "base_uri": "https://localhost:8080/",
          "height": 423
        },
        "outputId": "6075d9ab-c052-4543-bff5-f779abdc8e13"
      },
      "execution_count": null,
      "outputs": [
        {
          "output_type": "execute_result",
          "data": {
            "text/html": [
              "\n",
              "  <div id=\"df-a39135e4-10eb-41ee-965f-b46849a877c5\">\n",
              "    <div class=\"colab-df-container\">\n",
              "      <div>\n",
              "<style scoped>\n",
              "    .dataframe tbody tr th:only-of-type {\n",
              "        vertical-align: middle;\n",
              "    }\n",
              "\n",
              "    .dataframe tbody tr th {\n",
              "        vertical-align: top;\n",
              "    }\n",
              "\n",
              "    .dataframe thead th {\n",
              "        text-align: right;\n",
              "    }\n",
              "</style>\n",
              "<table border=\"1\" class=\"dataframe\">\n",
              "  <thead>\n",
              "    <tr style=\"text-align: right;\">\n",
              "      <th></th>\n",
              "      <th>id</th>\n",
              "      <th>room_id/id</th>\n",
              "      <th>noted_date</th>\n",
              "      <th>temp</th>\n",
              "      <th>out/in</th>\n",
              "    </tr>\n",
              "  </thead>\n",
              "  <tbody>\n",
              "    <tr>\n",
              "      <th>0</th>\n",
              "      <td>__export__.temp_log_196134_bd201015</td>\n",
              "      <td>Room Admin</td>\n",
              "      <td>2018-12-08 09:30:00</td>\n",
              "      <td>29</td>\n",
              "      <td>In</td>\n",
              "    </tr>\n",
              "    <tr>\n",
              "      <th>1</th>\n",
              "      <td>__export__.temp_log_196131_7bca51bc</td>\n",
              "      <td>Room Admin</td>\n",
              "      <td>2018-12-08 09:30:00</td>\n",
              "      <td>29</td>\n",
              "      <td>In</td>\n",
              "    </tr>\n",
              "    <tr>\n",
              "      <th>2</th>\n",
              "      <td>__export__.temp_log_196127_522915e3</td>\n",
              "      <td>Room Admin</td>\n",
              "      <td>2018-12-08 09:29:00</td>\n",
              "      <td>41</td>\n",
              "      <td>Out</td>\n",
              "    </tr>\n",
              "    <tr>\n",
              "      <th>3</th>\n",
              "      <td>__export__.temp_log_196128_be0919cf</td>\n",
              "      <td>Room Admin</td>\n",
              "      <td>2018-12-08 09:29:00</td>\n",
              "      <td>41</td>\n",
              "      <td>Out</td>\n",
              "    </tr>\n",
              "    <tr>\n",
              "      <th>4</th>\n",
              "      <td>__export__.temp_log_196126_d30b72fb</td>\n",
              "      <td>Room Admin</td>\n",
              "      <td>2018-12-08 09:29:00</td>\n",
              "      <td>31</td>\n",
              "      <td>In</td>\n",
              "    </tr>\n",
              "    <tr>\n",
              "      <th>...</th>\n",
              "      <td>...</td>\n",
              "      <td>...</td>\n",
              "      <td>...</td>\n",
              "      <td>...</td>\n",
              "      <td>...</td>\n",
              "    </tr>\n",
              "    <tr>\n",
              "      <th>97601</th>\n",
              "      <td>__export__.temp_log_91076_7fbd08ca</td>\n",
              "      <td>Room Admin</td>\n",
              "      <td>2018-07-28 07:07:00</td>\n",
              "      <td>31</td>\n",
              "      <td>In</td>\n",
              "    </tr>\n",
              "    <tr>\n",
              "      <th>97602</th>\n",
              "      <td>__export__.temp_log_147733_62c03f31</td>\n",
              "      <td>Room Admin</td>\n",
              "      <td>2018-07-28 07:07:00</td>\n",
              "      <td>31</td>\n",
              "      <td>In</td>\n",
              "    </tr>\n",
              "    <tr>\n",
              "      <th>97603</th>\n",
              "      <td>__export__.temp_log_100386_84093a68</td>\n",
              "      <td>Room Admin</td>\n",
              "      <td>2018-07-28 07:06:00</td>\n",
              "      <td>31</td>\n",
              "      <td>In</td>\n",
              "    </tr>\n",
              "    <tr>\n",
              "      <th>97604</th>\n",
              "      <td>__export__.temp_log_123297_4d8e690b</td>\n",
              "      <td>Room Admin</td>\n",
              "      <td>2018-07-28 07:06:00</td>\n",
              "      <td>31</td>\n",
              "      <td>In</td>\n",
              "    </tr>\n",
              "    <tr>\n",
              "      <th>97605</th>\n",
              "      <td>__export__.temp_log_133741_32958703</td>\n",
              "      <td>Room Admin</td>\n",
              "      <td>2018-07-28 07:06:00</td>\n",
              "      <td>31</td>\n",
              "      <td>In</td>\n",
              "    </tr>\n",
              "  </tbody>\n",
              "</table>\n",
              "<p>97606 rows × 5 columns</p>\n",
              "</div>\n",
              "      <button class=\"colab-df-convert\" onclick=\"convertToInteractive('df-a39135e4-10eb-41ee-965f-b46849a877c5')\"\n",
              "              title=\"Convert this dataframe to an interactive table.\"\n",
              "              style=\"display:none;\">\n",
              "        \n",
              "  <svg xmlns=\"http://www.w3.org/2000/svg\" height=\"24px\"viewBox=\"0 0 24 24\"\n",
              "       width=\"24px\">\n",
              "    <path d=\"M0 0h24v24H0V0z\" fill=\"none\"/>\n",
              "    <path d=\"M18.56 5.44l.94 2.06.94-2.06 2.06-.94-2.06-.94-.94-2.06-.94 2.06-2.06.94zm-11 1L8.5 8.5l.94-2.06 2.06-.94-2.06-.94L8.5 2.5l-.94 2.06-2.06.94zm10 10l.94 2.06.94-2.06 2.06-.94-2.06-.94-.94-2.06-.94 2.06-2.06.94z\"/><path d=\"M17.41 7.96l-1.37-1.37c-.4-.4-.92-.59-1.43-.59-.52 0-1.04.2-1.43.59L10.3 9.45l-7.72 7.72c-.78.78-.78 2.05 0 2.83L4 21.41c.39.39.9.59 1.41.59.51 0 1.02-.2 1.41-.59l7.78-7.78 2.81-2.81c.8-.78.8-2.07 0-2.86zM5.41 20L4 18.59l7.72-7.72 1.47 1.35L5.41 20z\"/>\n",
              "  </svg>\n",
              "      </button>\n",
              "      \n",
              "  <style>\n",
              "    .colab-df-container {\n",
              "      display:flex;\n",
              "      flex-wrap:wrap;\n",
              "      gap: 12px;\n",
              "    }\n",
              "\n",
              "    .colab-df-convert {\n",
              "      background-color: #E8F0FE;\n",
              "      border: none;\n",
              "      border-radius: 50%;\n",
              "      cursor: pointer;\n",
              "      display: none;\n",
              "      fill: #1967D2;\n",
              "      height: 32px;\n",
              "      padding: 0 0 0 0;\n",
              "      width: 32px;\n",
              "    }\n",
              "\n",
              "    .colab-df-convert:hover {\n",
              "      background-color: #E2EBFA;\n",
              "      box-shadow: 0px 1px 2px rgba(60, 64, 67, 0.3), 0px 1px 3px 1px rgba(60, 64, 67, 0.15);\n",
              "      fill: #174EA6;\n",
              "    }\n",
              "\n",
              "    [theme=dark] .colab-df-convert {\n",
              "      background-color: #3B4455;\n",
              "      fill: #D2E3FC;\n",
              "    }\n",
              "\n",
              "    [theme=dark] .colab-df-convert:hover {\n",
              "      background-color: #434B5C;\n",
              "      box-shadow: 0px 1px 3px 1px rgba(0, 0, 0, 0.15);\n",
              "      filter: drop-shadow(0px 1px 2px rgba(0, 0, 0, 0.3));\n",
              "      fill: #FFFFFF;\n",
              "    }\n",
              "  </style>\n",
              "\n",
              "      <script>\n",
              "        const buttonEl =\n",
              "          document.querySelector('#df-a39135e4-10eb-41ee-965f-b46849a877c5 button.colab-df-convert');\n",
              "        buttonEl.style.display =\n",
              "          google.colab.kernel.accessAllowed ? 'block' : 'none';\n",
              "\n",
              "        async function convertToInteractive(key) {\n",
              "          const element = document.querySelector('#df-a39135e4-10eb-41ee-965f-b46849a877c5');\n",
              "          const dataTable =\n",
              "            await google.colab.kernel.invokeFunction('convertToInteractive',\n",
              "                                                     [key], {});\n",
              "          if (!dataTable) return;\n",
              "\n",
              "          const docLinkHtml = 'Like what you see? Visit the ' +\n",
              "            '<a target=\"_blank\" href=https://colab.research.google.com/notebooks/data_table.ipynb>data table notebook</a>'\n",
              "            + ' to learn more about interactive tables.';\n",
              "          element.innerHTML = '';\n",
              "          dataTable['output_type'] = 'display_data';\n",
              "          await google.colab.output.renderOutput(dataTable, element);\n",
              "          const docLink = document.createElement('div');\n",
              "          docLink.innerHTML = docLinkHtml;\n",
              "          element.appendChild(docLink);\n",
              "        }\n",
              "      </script>\n",
              "    </div>\n",
              "  </div>\n",
              "  "
            ],
            "text/plain": [
              "                                        id  room_id/id  ... temp  out/in\n",
              "0      __export__.temp_log_196134_bd201015  Room Admin  ...   29      In\n",
              "1      __export__.temp_log_196131_7bca51bc  Room Admin  ...   29      In\n",
              "2      __export__.temp_log_196127_522915e3  Room Admin  ...   41     Out\n",
              "3      __export__.temp_log_196128_be0919cf  Room Admin  ...   41     Out\n",
              "4      __export__.temp_log_196126_d30b72fb  Room Admin  ...   31      In\n",
              "...                                    ...         ...  ...  ...     ...\n",
              "97601   __export__.temp_log_91076_7fbd08ca  Room Admin  ...   31      In\n",
              "97602  __export__.temp_log_147733_62c03f31  Room Admin  ...   31      In\n",
              "97603  __export__.temp_log_100386_84093a68  Room Admin  ...   31      In\n",
              "97604  __export__.temp_log_123297_4d8e690b  Room Admin  ...   31      In\n",
              "97605  __export__.temp_log_133741_32958703  Room Admin  ...   31      In\n",
              "\n",
              "[97606 rows x 5 columns]"
            ]
          },
          "metadata": {},
          "execution_count": 4
        }
      ]
    },
    {
      "cell_type": "markdown",
      "source": [
        "Cleaning little more for my own reference."
      ],
      "metadata": {
        "id": "SkEv_MwdWbrB"
      }
    },
    {
      "cell_type": "code",
      "source": [
        "IOT_df['New_Date']=[d.date() for d in IOT_df['noted_date']] #this will seperate the date from the date time\n",
        "IOT_df['New_Time']=[d.time() for d in IOT_df['noted_date']] #this will seperate the time from date time and store in new given column.\n",
        "#note: .dt.date or .da.time attribute will only work if the date is in panda datetime format to remoce the time from date and vice versa.\n",
        "print(IOT_df) "
      ],
      "metadata": {
        "colab": {
          "base_uri": "https://localhost:8080/"
        },
        "id": "GECMyDQA0vvK",
        "outputId": "dbb60fd1-542d-4a4e-fdf9-35dde45ecfbb"
      },
      "execution_count": null,
      "outputs": [
        {
          "output_type": "stream",
          "name": "stdout",
          "text": [
            "                                        id  room_id/id  ...    New_Date  New_Time\n",
            "0      __export__.temp_log_196134_bd201015  Room Admin  ...  2018-12-08  09:30:00\n",
            "1      __export__.temp_log_196131_7bca51bc  Room Admin  ...  2018-12-08  09:30:00\n",
            "2      __export__.temp_log_196127_522915e3  Room Admin  ...  2018-12-08  09:29:00\n",
            "3      __export__.temp_log_196128_be0919cf  Room Admin  ...  2018-12-08  09:29:00\n",
            "4      __export__.temp_log_196126_d30b72fb  Room Admin  ...  2018-12-08  09:29:00\n",
            "...                                    ...         ...  ...         ...       ...\n",
            "97601   __export__.temp_log_91076_7fbd08ca  Room Admin  ...  2018-07-28  07:07:00\n",
            "97602  __export__.temp_log_147733_62c03f31  Room Admin  ...  2018-07-28  07:07:00\n",
            "97603  __export__.temp_log_100386_84093a68  Room Admin  ...  2018-07-28  07:06:00\n",
            "97604  __export__.temp_log_123297_4d8e690b  Room Admin  ...  2018-07-28  07:06:00\n",
            "97605  __export__.temp_log_133741_32958703  Room Admin  ...  2018-07-28  07:06:00\n",
            "\n",
            "[97606 rows x 7 columns]\n"
          ]
        }
      ]
    },
    {
      "cell_type": "markdown",
      "source": [
        "You can see in the table the date and time is seperated so that it's easier to read now."
      ],
      "metadata": {
        "id": "IfOGMiOB6CJy"
      }
    },
    {
      "cell_type": "markdown",
      "source": [
        "## 2. What is the minimum and maximum date and time?\n"
      ],
      "metadata": {
        "id": "Vqpww8N8yCAl"
      }
    },
    {
      "cell_type": "code",
      "source": [
        "IOT_df.New_Date.describe() #just looking ionto the data"
      ],
      "metadata": {
        "id": "68vWo_cWUFX2",
        "outputId": "a5dcae90-46c9-47fa-a02a-0dd3fe245023",
        "colab": {
          "base_uri": "https://localhost:8080/"
        }
      },
      "execution_count": 11,
      "outputs": [
        {
          "output_type": "execute_result",
          "data": {
            "text/plain": [
              "count          97606\n",
              "unique            86\n",
              "top       2018-10-17\n",
              "freq           20564\n",
              "Name: New_Date, dtype: object"
            ]
          },
          "metadata": {},
          "execution_count": 11
        }
      ]
    },
    {
      "cell_type": "code",
      "source": [
        "IOT_df.New_Time.describe()"
      ],
      "metadata": {
        "colab": {
          "base_uri": "https://localhost:8080/"
        },
        "id": "9ug1bD0ehxWs",
        "outputId": "41618974-ca7f-48e2-9cde-6ac022077e18"
      },
      "execution_count": 22,
      "outputs": [
        {
          "output_type": "execute_result",
          "data": {
            "text/plain": [
              "count        97606\n",
              "unique        1440\n",
              "top       14:17:00\n",
              "freq           159\n",
              "Name: New_Time, dtype: object"
            ]
          },
          "metadata": {},
          "execution_count": 22
        }
      ]
    },
    {
      "cell_type": "markdown",
      "source": [
        "Now, let's find the minimum and maximun date and time"
      ],
      "metadata": {
        "id": "mK92ePChjW6r"
      }
    },
    {
      "cell_type": "code",
      "source": [
        "col1=IOT_df[\"New_Date\"]\n",
        "col2=IOT_df[\"New_Time\"]"
      ],
      "metadata": {
        "id": "p3UKwE8niBwg"
      },
      "execution_count": 31,
      "outputs": []
    },
    {
      "cell_type": "code",
      "source": [
        "min_date=col1.min()\n",
        "max_date=col1.max()\n",
        "print(min_date)\n",
        "print(max_date)"
      ],
      "metadata": {
        "colab": {
          "base_uri": "https://localhost:8080/"
        },
        "id": "tk_QHG8JiPFr",
        "outputId": "a33851eb-ed2c-4092-a46b-1876cb036ac8"
      },
      "execution_count": 34,
      "outputs": [
        {
          "output_type": "stream",
          "name": "stdout",
          "text": [
            "2018-07-28\n",
            "2018-12-08\n"
          ]
        }
      ]
    },
    {
      "cell_type": "code",
      "source": [
        "min_time=col2.min()\n",
        "max_time=col2.max()\n",
        "\n",
        "print(\"This is minimun time: \", min_time)\n",
        "print(\"This is minimun time: \", max_time)"
      ],
      "metadata": {
        "colab": {
          "base_uri": "https://localhost:8080/"
        },
        "id": "nabuYiZ3i7EC",
        "outputId": "e360f51d-2c4e-4199-ec17-7779f1422eb7"
      },
      "execution_count": 40,
      "outputs": [
        {
          "output_type": "stream",
          "name": "stdout",
          "text": [
            "This is minimun time:  00:00:00\n",
            "This is minimun time:  23:59:00\n"
          ]
        }
      ]
    },
    {
      "cell_type": "markdown",
      "source": [
        "What is the largest interval inbetween temperature checks?\n",
        "\n",
        "What is the average datetime?\n",
        "\n",
        "\n",
        "What was the average outside temperature on '09-11-2018'?"
      ],
      "metadata": {
        "id": "eDM2vb2ElhvF"
      }
    },
    {
      "cell_type": "code",
      "source": [
        "IOT_df.New_Date.unique()\n"
      ],
      "metadata": {
        "colab": {
          "base_uri": "https://localhost:8080/"
        },
        "id": "MnZLRORJnntR",
        "outputId": "3b05d183-d4aa-4aa6-b184-590f2e9433b3"
      },
      "execution_count": 71,
      "outputs": [
        {
          "output_type": "execute_result",
          "data": {
            "text/plain": [
              "array([datetime.date(2018, 12, 8), datetime.date(2018, 12, 7),\n",
              "       datetime.date(2018, 12, 6), datetime.date(2018, 12, 5),\n",
              "       datetime.date(2018, 12, 4), datetime.date(2018, 12, 3),\n",
              "       datetime.date(2018, 12, 2), datetime.date(2018, 12, 1),\n",
              "       datetime.date(2018, 11, 30), datetime.date(2018, 11, 29),\n",
              "       datetime.date(2018, 11, 28), datetime.date(2018, 11, 27),\n",
              "       datetime.date(2018, 11, 26), datetime.date(2018, 11, 25),\n",
              "       datetime.date(2018, 11, 24), datetime.date(2018, 11, 23),\n",
              "       datetime.date(2018, 11, 22), datetime.date(2018, 11, 21),\n",
              "       datetime.date(2018, 11, 20), datetime.date(2018, 11, 19),\n",
              "       datetime.date(2018, 11, 18), datetime.date(2018, 11, 17),\n",
              "       datetime.date(2018, 11, 5), datetime.date(2018, 11, 4),\n",
              "       datetime.date(2018, 11, 3), datetime.date(2018, 11, 2),\n",
              "       datetime.date(2018, 11, 1), datetime.date(2018, 10, 31),\n",
              "       datetime.date(2018, 10, 30), datetime.date(2018, 10, 28),\n",
              "       datetime.date(2018, 10, 27), datetime.date(2018, 10, 26),\n",
              "       datetime.date(2018, 10, 25), datetime.date(2018, 10, 24),\n",
              "       datetime.date(2018, 10, 23), datetime.date(2018, 10, 22),\n",
              "       datetime.date(2018, 10, 21), datetime.date(2018, 10, 20),\n",
              "       datetime.date(2018, 10, 18), datetime.date(2018, 10, 17),\n",
              "       datetime.date(2018, 10, 16), datetime.date(2018, 10, 15),\n",
              "       datetime.date(2018, 10, 14), datetime.date(2018, 10, 13),\n",
              "       datetime.date(2018, 10, 12), datetime.date(2018, 10, 11),\n",
              "       datetime.date(2018, 10, 10), datetime.date(2018, 10, 9),\n",
              "       datetime.date(2018, 9, 30), datetime.date(2018, 9, 29),\n",
              "       datetime.date(2018, 9, 28), datetime.date(2018, 9, 27),\n",
              "       datetime.date(2018, 9, 26), datetime.date(2018, 9, 25),\n",
              "       datetime.date(2018, 9, 24), datetime.date(2018, 9, 22),\n",
              "       datetime.date(2018, 9, 21), datetime.date(2018, 9, 20),\n",
              "       datetime.date(2018, 9, 19), datetime.date(2018, 9, 18),\n",
              "       datetime.date(2018, 9, 17), datetime.date(2018, 9, 16),\n",
              "       datetime.date(2018, 9, 15), datetime.date(2018, 9, 14),\n",
              "       datetime.date(2018, 9, 13), datetime.date(2018, 9, 12),\n",
              "       datetime.date(2018, 9, 11), datetime.date(2018, 9, 10),\n",
              "       datetime.date(2018, 9, 9), datetime.date(2018, 9, 7),\n",
              "       datetime.date(2018, 9, 6), datetime.date(2018, 9, 5),\n",
              "       datetime.date(2018, 9, 4), datetime.date(2018, 9, 3),\n",
              "       datetime.date(2018, 8, 30), datetime.date(2018, 8, 26),\n",
              "       datetime.date(2018, 8, 25), datetime.date(2018, 8, 19),\n",
              "       datetime.date(2018, 8, 18), datetime.date(2018, 8, 16),\n",
              "       datetime.date(2018, 8, 11), datetime.date(2018, 8, 10),\n",
              "       datetime.date(2018, 8, 2), datetime.date(2018, 7, 31),\n",
              "       datetime.date(2018, 7, 29), datetime.date(2018, 7, 28)],\n",
              "      dtype=object)"
            ]
          },
          "metadata": {},
          "execution_count": 71
        }
      ]
    },
    {
      "cell_type": "markdown",
      "source": [
        "## 3. What is the largest interval inbetween temperature checks?"
      ],
      "metadata": {
        "id": "U8u5Gm8spl6e"
      }
    },
    {
      "cell_type": "code",
      "source": [
        "diff =col1.diff(periods=1)\n",
        "diff\n"
      ],
      "metadata": {
        "colab": {
          "base_uri": "https://localhost:8080/"
        },
        "id": "Knt14ZJOpsNd",
        "outputId": "19bb3f10-5a4f-4972-e276-ec8ec28c8cfd"
      },
      "execution_count": 96,
      "outputs": [
        {
          "output_type": "execute_result",
          "data": {
            "text/plain": [
              "0          NaT\n",
              "1       0 days\n",
              "2       0 days\n",
              "3       0 days\n",
              "4       0 days\n",
              "         ...  \n",
              "97601   0 days\n",
              "97602   0 days\n",
              "97603   0 days\n",
              "97604   0 days\n",
              "97605   0 days\n",
              "Name: New_Date, Length: 97606, dtype: timedelta64[ns]"
            ]
          },
          "metadata": {},
          "execution_count": 96
        }
      ]
    },
    {
      "cell_type": "code",
      "source": [
        "diff=col1.max() -IOT_df.New_Date\n",
        "diff.max() ##I still have to figure out the way to find all the maximum and minimum differences and the average. I think I might need to change the data type before I apply the function. I spent alot of time on it and I tried several times but I am not getting the result as expected."
      ],
      "metadata": {
        "colab": {
          "base_uri": "https://localhost:8080/"
        },
        "id": "Q06OKLh3lz-k",
        "outputId": "2b145650-1bc2-4e3a-f03e-bdabd14dc001"
      },
      "execution_count": 97,
      "outputs": [
        {
          "output_type": "execute_result",
          "data": {
            "text/plain": [
              "Timedelta('133 days 00:00:00')"
            ]
          },
          "metadata": {},
          "execution_count": 97
        }
      ]
    },
    {
      "cell_type": "code",
      "source": [
        "#IOT_df.New_Date.dt.day()\n",
        "IOT_df['New_Date'].astype(str).astype(int) #I though this would work but I am missing something here. May be I need to clean the data like what we did in last lecture using the re library. I will stop here coz I feel like I am making things complicated."
      ],
      "metadata": {
        "colab": {
          "base_uri": "https://localhost:8080/",
          "height": 241
        },
        "id": "W-i8s0pZyKs9",
        "outputId": "3352fccc-1011-42e0-9c88-e03b2a82143a"
      },
      "execution_count": 100,
      "outputs": [
        {
          "output_type": "error",
          "ename": "ValueError",
          "evalue": "ignored",
          "traceback": [
            "\u001b[0;31m---------------------------------------------------------------------------\u001b[0m",
            "\u001b[0;31mValueError\u001b[0m                                Traceback (most recent call last)",
            "\u001b[0;32m<ipython-input-100-602dfd773b1f>\u001b[0m in \u001b[0;36m<module>\u001b[0;34m()\u001b[0m\n\u001b[1;32m      1\u001b[0m \u001b[0;31m#IOT_df.New_Date.dt.day()\u001b[0m\u001b[0;34m\u001b[0m\u001b[0;34m\u001b[0m\u001b[0;34m\u001b[0m\u001b[0m\n\u001b[0;32m----> 2\u001b[0;31m \u001b[0mIOT_df\u001b[0m\u001b[0;34m[\u001b[0m\u001b[0;34m'New_Date'\u001b[0m\u001b[0;34m]\u001b[0m\u001b[0;34m.\u001b[0m\u001b[0mastype\u001b[0m\u001b[0;34m(\u001b[0m\u001b[0mstr\u001b[0m\u001b[0;34m)\u001b[0m\u001b[0;34m.\u001b[0m\u001b[0mastype\u001b[0m\u001b[0;34m(\u001b[0m\u001b[0mint\u001b[0m\u001b[0;34m)\u001b[0m\u001b[0;34m\u001b[0m\u001b[0;34m\u001b[0m\u001b[0m\n\u001b[0m",
            "\u001b[0;32m/usr/local/lib/python3.7/dist-packages/pandas/core/generic.py\u001b[0m in \u001b[0;36mastype\u001b[0;34m(self, dtype, copy, errors)\u001b[0m\n\u001b[1;32m   5813\u001b[0m         \u001b[0;32melse\u001b[0m\u001b[0;34m:\u001b[0m\u001b[0;34m\u001b[0m\u001b[0;34m\u001b[0m\u001b[0m\n\u001b[1;32m   5814\u001b[0m             \u001b[0;31m# else, only a single dtype is given\u001b[0m\u001b[0;34m\u001b[0m\u001b[0;34m\u001b[0m\u001b[0;34m\u001b[0m\u001b[0m\n\u001b[0;32m-> 5815\u001b[0;31m             \u001b[0mnew_data\u001b[0m \u001b[0;34m=\u001b[0m \u001b[0mself\u001b[0m\u001b[0;34m.\u001b[0m\u001b[0m_mgr\u001b[0m\u001b[0;34m.\u001b[0m\u001b[0mastype\u001b[0m\u001b[0;34m(\u001b[0m\u001b[0mdtype\u001b[0m\u001b[0;34m=\u001b[0m\u001b[0mdtype\u001b[0m\u001b[0;34m,\u001b[0m \u001b[0mcopy\u001b[0m\u001b[0;34m=\u001b[0m\u001b[0mcopy\u001b[0m\u001b[0;34m,\u001b[0m \u001b[0merrors\u001b[0m\u001b[0;34m=\u001b[0m\u001b[0merrors\u001b[0m\u001b[0;34m)\u001b[0m\u001b[0;34m\u001b[0m\u001b[0;34m\u001b[0m\u001b[0m\n\u001b[0m\u001b[1;32m   5816\u001b[0m             \u001b[0;32mreturn\u001b[0m \u001b[0mself\u001b[0m\u001b[0;34m.\u001b[0m\u001b[0m_constructor\u001b[0m\u001b[0;34m(\u001b[0m\u001b[0mnew_data\u001b[0m\u001b[0;34m)\u001b[0m\u001b[0;34m.\u001b[0m\u001b[0m__finalize__\u001b[0m\u001b[0;34m(\u001b[0m\u001b[0mself\u001b[0m\u001b[0;34m,\u001b[0m \u001b[0mmethod\u001b[0m\u001b[0;34m=\u001b[0m\u001b[0;34m\"astype\"\u001b[0m\u001b[0;34m)\u001b[0m\u001b[0;34m\u001b[0m\u001b[0;34m\u001b[0m\u001b[0m\n\u001b[1;32m   5817\u001b[0m \u001b[0;34m\u001b[0m\u001b[0m\n",
            "\u001b[0;32m/usr/local/lib/python3.7/dist-packages/pandas/core/internals/managers.py\u001b[0m in \u001b[0;36mastype\u001b[0;34m(self, dtype, copy, errors)\u001b[0m\n\u001b[1;32m    416\u001b[0m \u001b[0;34m\u001b[0m\u001b[0m\n\u001b[1;32m    417\u001b[0m     \u001b[0;32mdef\u001b[0m \u001b[0mastype\u001b[0m\u001b[0;34m(\u001b[0m\u001b[0mself\u001b[0m\u001b[0;34m:\u001b[0m \u001b[0mT\u001b[0m\u001b[0;34m,\u001b[0m \u001b[0mdtype\u001b[0m\u001b[0;34m,\u001b[0m \u001b[0mcopy\u001b[0m\u001b[0;34m:\u001b[0m \u001b[0mbool\u001b[0m \u001b[0;34m=\u001b[0m \u001b[0;32mFalse\u001b[0m\u001b[0;34m,\u001b[0m \u001b[0merrors\u001b[0m\u001b[0;34m:\u001b[0m \u001b[0mstr\u001b[0m \u001b[0;34m=\u001b[0m \u001b[0;34m\"raise\"\u001b[0m\u001b[0;34m)\u001b[0m \u001b[0;34m->\u001b[0m \u001b[0mT\u001b[0m\u001b[0;34m:\u001b[0m\u001b[0;34m\u001b[0m\u001b[0;34m\u001b[0m\u001b[0m\n\u001b[0;32m--> 418\u001b[0;31m         \u001b[0;32mreturn\u001b[0m \u001b[0mself\u001b[0m\u001b[0;34m.\u001b[0m\u001b[0mapply\u001b[0m\u001b[0;34m(\u001b[0m\u001b[0;34m\"astype\"\u001b[0m\u001b[0;34m,\u001b[0m \u001b[0mdtype\u001b[0m\u001b[0;34m=\u001b[0m\u001b[0mdtype\u001b[0m\u001b[0;34m,\u001b[0m \u001b[0mcopy\u001b[0m\u001b[0;34m=\u001b[0m\u001b[0mcopy\u001b[0m\u001b[0;34m,\u001b[0m \u001b[0merrors\u001b[0m\u001b[0;34m=\u001b[0m\u001b[0merrors\u001b[0m\u001b[0;34m)\u001b[0m\u001b[0;34m\u001b[0m\u001b[0;34m\u001b[0m\u001b[0m\n\u001b[0m\u001b[1;32m    419\u001b[0m \u001b[0;34m\u001b[0m\u001b[0m\n\u001b[1;32m    420\u001b[0m     def convert(\n",
            "\u001b[0;32m/usr/local/lib/python3.7/dist-packages/pandas/core/internals/managers.py\u001b[0m in \u001b[0;36mapply\u001b[0;34m(self, f, align_keys, ignore_failures, **kwargs)\u001b[0m\n\u001b[1;32m    325\u001b[0m                     \u001b[0mapplied\u001b[0m \u001b[0;34m=\u001b[0m \u001b[0mb\u001b[0m\u001b[0;34m.\u001b[0m\u001b[0mapply\u001b[0m\u001b[0;34m(\u001b[0m\u001b[0mf\u001b[0m\u001b[0;34m,\u001b[0m \u001b[0;34m**\u001b[0m\u001b[0mkwargs\u001b[0m\u001b[0;34m)\u001b[0m\u001b[0;34m\u001b[0m\u001b[0;34m\u001b[0m\u001b[0m\n\u001b[1;32m    326\u001b[0m                 \u001b[0;32melse\u001b[0m\u001b[0;34m:\u001b[0m\u001b[0;34m\u001b[0m\u001b[0;34m\u001b[0m\u001b[0m\n\u001b[0;32m--> 327\u001b[0;31m                     \u001b[0mapplied\u001b[0m \u001b[0;34m=\u001b[0m \u001b[0mgetattr\u001b[0m\u001b[0;34m(\u001b[0m\u001b[0mb\u001b[0m\u001b[0;34m,\u001b[0m \u001b[0mf\u001b[0m\u001b[0;34m)\u001b[0m\u001b[0;34m(\u001b[0m\u001b[0;34m**\u001b[0m\u001b[0mkwargs\u001b[0m\u001b[0;34m)\u001b[0m\u001b[0;34m\u001b[0m\u001b[0;34m\u001b[0m\u001b[0m\n\u001b[0m\u001b[1;32m    328\u001b[0m             \u001b[0;32mexcept\u001b[0m \u001b[0;34m(\u001b[0m\u001b[0mTypeError\u001b[0m\u001b[0;34m,\u001b[0m \u001b[0mNotImplementedError\u001b[0m\u001b[0;34m)\u001b[0m\u001b[0;34m:\u001b[0m\u001b[0;34m\u001b[0m\u001b[0;34m\u001b[0m\u001b[0m\n\u001b[1;32m    329\u001b[0m                 \u001b[0;32mif\u001b[0m \u001b[0;32mnot\u001b[0m \u001b[0mignore_failures\u001b[0m\u001b[0;34m:\u001b[0m\u001b[0;34m\u001b[0m\u001b[0;34m\u001b[0m\u001b[0m\n",
            "\u001b[0;32m/usr/local/lib/python3.7/dist-packages/pandas/core/internals/blocks.py\u001b[0m in \u001b[0;36mastype\u001b[0;34m(self, dtype, copy, errors)\u001b[0m\n\u001b[1;32m    589\u001b[0m         \u001b[0mvalues\u001b[0m \u001b[0;34m=\u001b[0m \u001b[0mself\u001b[0m\u001b[0;34m.\u001b[0m\u001b[0mvalues\u001b[0m\u001b[0;34m\u001b[0m\u001b[0;34m\u001b[0m\u001b[0m\n\u001b[1;32m    590\u001b[0m \u001b[0;34m\u001b[0m\u001b[0m\n\u001b[0;32m--> 591\u001b[0;31m         \u001b[0mnew_values\u001b[0m \u001b[0;34m=\u001b[0m \u001b[0mastype_array_safe\u001b[0m\u001b[0;34m(\u001b[0m\u001b[0mvalues\u001b[0m\u001b[0;34m,\u001b[0m \u001b[0mdtype\u001b[0m\u001b[0;34m,\u001b[0m \u001b[0mcopy\u001b[0m\u001b[0;34m=\u001b[0m\u001b[0mcopy\u001b[0m\u001b[0;34m,\u001b[0m \u001b[0merrors\u001b[0m\u001b[0;34m=\u001b[0m\u001b[0merrors\u001b[0m\u001b[0;34m)\u001b[0m\u001b[0;34m\u001b[0m\u001b[0;34m\u001b[0m\u001b[0m\n\u001b[0m\u001b[1;32m    592\u001b[0m \u001b[0;34m\u001b[0m\u001b[0m\n\u001b[1;32m    593\u001b[0m         \u001b[0mnew_values\u001b[0m \u001b[0;34m=\u001b[0m \u001b[0mmaybe_coerce_values\u001b[0m\u001b[0;34m(\u001b[0m\u001b[0mnew_values\u001b[0m\u001b[0;34m)\u001b[0m\u001b[0;34m\u001b[0m\u001b[0;34m\u001b[0m\u001b[0m\n",
            "\u001b[0;32m/usr/local/lib/python3.7/dist-packages/pandas/core/dtypes/cast.py\u001b[0m in \u001b[0;36mastype_array_safe\u001b[0;34m(values, dtype, copy, errors)\u001b[0m\n\u001b[1;32m   1307\u001b[0m \u001b[0;34m\u001b[0m\u001b[0m\n\u001b[1;32m   1308\u001b[0m     \u001b[0;32mtry\u001b[0m\u001b[0;34m:\u001b[0m\u001b[0;34m\u001b[0m\u001b[0;34m\u001b[0m\u001b[0m\n\u001b[0;32m-> 1309\u001b[0;31m         \u001b[0mnew_values\u001b[0m \u001b[0;34m=\u001b[0m \u001b[0mastype_array\u001b[0m\u001b[0;34m(\u001b[0m\u001b[0mvalues\u001b[0m\u001b[0;34m,\u001b[0m \u001b[0mdtype\u001b[0m\u001b[0;34m,\u001b[0m \u001b[0mcopy\u001b[0m\u001b[0;34m=\u001b[0m\u001b[0mcopy\u001b[0m\u001b[0;34m)\u001b[0m\u001b[0;34m\u001b[0m\u001b[0;34m\u001b[0m\u001b[0m\n\u001b[0m\u001b[1;32m   1310\u001b[0m     \u001b[0;32mexcept\u001b[0m \u001b[0;34m(\u001b[0m\u001b[0mValueError\u001b[0m\u001b[0;34m,\u001b[0m \u001b[0mTypeError\u001b[0m\u001b[0;34m)\u001b[0m\u001b[0;34m:\u001b[0m\u001b[0;34m\u001b[0m\u001b[0;34m\u001b[0m\u001b[0m\n\u001b[1;32m   1311\u001b[0m         \u001b[0;31m# e.g. astype_nansafe can fail on object-dtype of strings\u001b[0m\u001b[0;34m\u001b[0m\u001b[0;34m\u001b[0m\u001b[0;34m\u001b[0m\u001b[0m\n",
            "\u001b[0;32m/usr/local/lib/python3.7/dist-packages/pandas/core/dtypes/cast.py\u001b[0m in \u001b[0;36mastype_array\u001b[0;34m(values, dtype, copy)\u001b[0m\n\u001b[1;32m   1255\u001b[0m \u001b[0;34m\u001b[0m\u001b[0m\n\u001b[1;32m   1256\u001b[0m     \u001b[0;32melse\u001b[0m\u001b[0;34m:\u001b[0m\u001b[0;34m\u001b[0m\u001b[0;34m\u001b[0m\u001b[0m\n\u001b[0;32m-> 1257\u001b[0;31m         \u001b[0mvalues\u001b[0m \u001b[0;34m=\u001b[0m \u001b[0mastype_nansafe\u001b[0m\u001b[0;34m(\u001b[0m\u001b[0mvalues\u001b[0m\u001b[0;34m,\u001b[0m \u001b[0mdtype\u001b[0m\u001b[0;34m,\u001b[0m \u001b[0mcopy\u001b[0m\u001b[0;34m=\u001b[0m\u001b[0mcopy\u001b[0m\u001b[0;34m)\u001b[0m\u001b[0;34m\u001b[0m\u001b[0;34m\u001b[0m\u001b[0m\n\u001b[0m\u001b[1;32m   1258\u001b[0m \u001b[0;34m\u001b[0m\u001b[0m\n\u001b[1;32m   1259\u001b[0m     \u001b[0;31m# in pandas we don't store numpy str dtypes, so convert to object\u001b[0m\u001b[0;34m\u001b[0m\u001b[0;34m\u001b[0m\u001b[0;34m\u001b[0m\u001b[0m\n",
            "\u001b[0;32m/usr/local/lib/python3.7/dist-packages/pandas/core/dtypes/cast.py\u001b[0m in \u001b[0;36mastype_nansafe\u001b[0;34m(arr, dtype, copy, skipna)\u001b[0m\n\u001b[1;32m   1172\u001b[0m         \u001b[0;31m# work around NumPy brokenness, #1987\u001b[0m\u001b[0;34m\u001b[0m\u001b[0;34m\u001b[0m\u001b[0;34m\u001b[0m\u001b[0m\n\u001b[1;32m   1173\u001b[0m         \u001b[0;32mif\u001b[0m \u001b[0mnp\u001b[0m\u001b[0;34m.\u001b[0m\u001b[0missubdtype\u001b[0m\u001b[0;34m(\u001b[0m\u001b[0mdtype\u001b[0m\u001b[0;34m.\u001b[0m\u001b[0mtype\u001b[0m\u001b[0;34m,\u001b[0m \u001b[0mnp\u001b[0m\u001b[0;34m.\u001b[0m\u001b[0minteger\u001b[0m\u001b[0;34m)\u001b[0m\u001b[0;34m:\u001b[0m\u001b[0;34m\u001b[0m\u001b[0;34m\u001b[0m\u001b[0m\n\u001b[0;32m-> 1174\u001b[0;31m             \u001b[0;32mreturn\u001b[0m \u001b[0mlib\u001b[0m\u001b[0;34m.\u001b[0m\u001b[0mastype_intsafe\u001b[0m\u001b[0;34m(\u001b[0m\u001b[0marr\u001b[0m\u001b[0;34m,\u001b[0m \u001b[0mdtype\u001b[0m\u001b[0;34m)\u001b[0m\u001b[0;34m\u001b[0m\u001b[0;34m\u001b[0m\u001b[0m\n\u001b[0m\u001b[1;32m   1175\u001b[0m \u001b[0;34m\u001b[0m\u001b[0m\n\u001b[1;32m   1176\u001b[0m         \u001b[0;31m# if we have a datetime/timedelta array of objects\u001b[0m\u001b[0;34m\u001b[0m\u001b[0;34m\u001b[0m\u001b[0;34m\u001b[0m\u001b[0m\n",
            "\u001b[0;32m/usr/local/lib/python3.7/dist-packages/pandas/_libs/lib.pyx\u001b[0m in \u001b[0;36mpandas._libs.lib.astype_intsafe\u001b[0;34m()\u001b[0m\n",
            "\u001b[0;31mValueError\u001b[0m: invalid literal for int() with base 10: '2018-12-08'"
          ]
        }
      ]
    },
    {
      "cell_type": "markdown",
      "source": [
        "\n",
        "## 5. What was the average outside temperature on '11-09-2018'?"
      ],
      "metadata": {
        "id": "bLN18uzlWsIX"
      }
    }
  ]
}