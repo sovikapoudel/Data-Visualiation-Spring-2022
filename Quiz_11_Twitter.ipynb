{
  "nbformat": 4,
  "nbformat_minor": 0,
  "metadata": {
    "colab": {
      "name": "Quiz 11-Twitter",
      "provenance": [],
      "authorship_tag": "ABX9TyMplIZ2pyFVM3oR/NDXxuIm",
      "include_colab_link": true
    },
    "kernelspec": {
      "name": "python3",
      "display_name": "Python 3"
    },
    "language_info": {
      "name": "python"
    }
  },
  "cells": [
    {
      "cell_type": "markdown",
      "metadata": {
        "id": "view-in-github",
        "colab_type": "text"
      },
      "source": [
        "<a href=\"https://colab.research.google.com/github/sovikapoudel/Data-Visualiation-Spring-2022/blob/main/Quiz_11_Twitter.ipynb\" target=\"_parent\"><img src=\"https://colab.research.google.com/assets/colab-badge.svg\" alt=\"Open In Colab\"/></a>"
      ]
    },
    {
      "cell_type": "code",
      "source": [
        "!pip install twitter"
      ],
      "metadata": {
        "colab": {
          "base_uri": "https://localhost:8080/"
        },
        "id": "rIpieqrvsqax",
        "outputId": "18789653-3317-4117-9838-f9bdb8cc0d2c"
      },
      "execution_count": 9,
      "outputs": [
        {
          "output_type": "stream",
          "name": "stdout",
          "text": [
            "Collecting twitter\n",
            "  Downloading twitter-1.19.3-py2.py3-none-any.whl (50 kB)\n",
            "\u001b[?25l\r\u001b[K     |██████▌                         | 10 kB 18.7 MB/s eta 0:00:01\r\u001b[K     |█████████████                   | 20 kB 11.7 MB/s eta 0:00:01\r\u001b[K     |███████████████████▋            | 30 kB 9.5 MB/s eta 0:00:01\r\u001b[K     |██████████████████████████      | 40 kB 8.6 MB/s eta 0:00:01\r\u001b[K     |████████████████████████████████| 50 kB 2.4 MB/s \n",
            "\u001b[?25hInstalling collected packages: twitter\n",
            "Successfully installed twitter-1.19.3\n"
          ]
        }
      ]
    },
    {
      "cell_type": "code",
      "execution_count": 40,
      "metadata": {
        "id": "wzEV9uT-l_vm"
      },
      "outputs": [],
      "source": [
        "\n",
        "import twitter\n",
        "import config\n",
        "\n",
        "CONSUMER_KEY = config.CONSUMER_KEY\n",
        "CONSUMER_SECRET = config.CONSUMER_SECRET\n",
        "OAUTH_TOKEN = config.OAUTH_TOKEN\n",
        "OAUTH_TOKEN_SECRET = config.OAUTH_TOKEN_SECRET\n",
        "auth = twitter.oauth.OAuth(OAUTH_TOKEN, OAUTH_TOKEN_SECRET,\n",
        "                           CONSUMER_KEY, CONSUMER_SECRET)\n",
        "\n",
        "mathcs_twitter_api = twitter.Twitter(auth=auth)"
      ]
    },
    {
      "cell_type": "code",
      "source": [
        "# status = \"Having fun in Data Processing and Vizualization class!  Posting to twitter has never been easier!\"\n",
        "\n",
        "# mathcs_twitter_api.statuses.update(\n",
        "#     status=status)"
      ],
      "metadata": {
        "id": "4eqIIAi6s7Tl"
      },
      "execution_count": 38,
      "outputs": []
    },
    {
      "cell_type": "code",
      "source": [
        "WORLD_WOE_ID = 1\n",
        "US_WOE_ID = 23424775\n",
        "\n",
        "# Prefix ID with the underscore for query string parameterization.\n",
        "# Without the underscore, the twitter package appends the ID value\n",
        "# to the URL itself as a special case keyword argument.\n",
        "\n",
        "world_trends = mathcs_twitter_api.trends.place(_id=WORLD_WOE_ID)\n",
        "us_trends = mathcs_twitter_api.trends.place(_id=US_WOE_ID)\n",
        "\n",
        "for i in range(10):\n",
        "    print(world_trends[0]['trends'][i]['query'])"
      ],
      "metadata": {
        "colab": {
          "base_uri": "https://localhost:8080/"
        },
        "id": "q2Hgtxj7yUri",
        "outputId": "01c60d34-801e-4453-eca5-493d84a007c6"
      },
      "execution_count": 46,
      "outputs": [
        {
          "output_type": "stream",
          "name": "stdout",
          "text": [
            "%23isolitiignoti\n",
            "Notifications\n",
            "%23JohnsonOut14\n",
            "%23akaryak%C4%B1t\n",
            "%23TPMP\n",
            "%23MelodicVoiceINDay\n",
            "%22Keir+Starmer%22\n",
            "Euphoria\n",
            "%22ExtraordINary+DAY%22\n",
            "%22Lovie+Smith%22\n"
          ]
        }
      ]
    }
  ]
}