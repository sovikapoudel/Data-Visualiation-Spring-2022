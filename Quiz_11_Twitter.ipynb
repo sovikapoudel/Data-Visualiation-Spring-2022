{
  "nbformat": 4,
  "nbformat_minor": 0,
  "metadata": {
    "colab": {
      "name": "Quiz 11-Twitter",
      "provenance": [],
      "authorship_tag": "ABX9TyM/msMqS5Vhwzh7lh3ElQXA",
      "include_colab_link": true
    },
    "kernelspec": {
      "name": "python3",
      "display_name": "Python 3"
    },
    "language_info": {
      "name": "python"
    }
  },
  "cells": [
    {
      "cell_type": "markdown",
      "metadata": {
        "id": "view-in-github",
        "colab_type": "text"
      },
      "source": [
        "<a href=\"https://colab.research.google.com/github/sovikapoudel/Data-Visualiation-Spring-2022/blob/main/Quiz_11_Twitter.ipynb\" target=\"_parent\"><img src=\"https://colab.research.google.com/assets/colab-badge.svg\" alt=\"Open In Colab\"/></a>"
      ]
    },
    {
      "cell_type": "code",
      "source": [
        "!pip install twitter"
      ],
      "metadata": {
        "colab": {
          "base_uri": "https://localhost:8080/"
        },
        "id": "rIpieqrvsqax",
        "outputId": "36a2fed3-73ef-40be-fcf3-92c662ba200b"
      },
      "execution_count": 15,
      "outputs": [
        {
          "output_type": "stream",
          "name": "stdout",
          "text": [
            "Requirement already satisfied: twitter in /usr/local/lib/python3.7/dist-packages (1.19.3)\n"
          ]
        }
      ]
    },
    {
      "cell_type": "code",
      "execution_count": 16,
      "metadata": {
        "id": "wzEV9uT-l_vm"
      },
      "outputs": [],
      "source": [
        "\n",
        "import twitter\n",
        "import config\n",
        "\n",
        "CONSUMER_KEY = config.CONSUMER_KEY\n",
        "CONSUMER_SECRET = config.CONSUMER_SECRET\n",
        "OAUTH_TOKEN = config.OAUTH_TOKEN\n",
        "OAUTH_TOKEN_SECRET = config.OAUTH_TOKEN_SECRET\n",
        "auth = twitter.oauth.OAuth(OAUTH_TOKEN, OAUTH_TOKEN_SECRET,\n",
        "                           CONSUMER_KEY, CONSUMER_SECRET)\n",
        "\n",
        "mathcs_twitter_api = twitter.Twitter(auth=auth)"
      ]
    },
    {
      "cell_type": "code",
      "source": [
        "# status = \"Having fun in Data Processing and Vizualization class!  Posting to twitter has never been easier!\"\n",
        "\n",
        "# mathcs_twitter_api.statuses.update(\n",
        "#     status=status)"
      ],
      "metadata": {
        "id": "4eqIIAi6s7Tl"
      },
      "execution_count": 17,
      "outputs": []
    },
    {
      "cell_type": "code",
      "source": [
        "WORLD_WOE_ID = 1\n",
        "US_WOE_ID = 2464592 #This is the WOEID for Oklahoma City(Not my favroite city but found it interesting)\n",
        "\n",
        "\n",
        "world_trends = mathcs_twitter_api.trends.place(_id=WORLD_WOE_ID)\n",
        "us_trends = mathcs_twitter_api.trends.place(_id=US_WOE_ID)\n",
        "\n",
        "for i in range(10):\n",
        "    print(world_trends[0]['trends'][i]['query'])"
      ],
      "metadata": {
        "colab": {
          "base_uri": "https://localhost:8080/"
        },
        "id": "q2Hgtxj7yUri",
        "outputId": "5558cb8d-f2b2-4a76-bdd7-17d4072a9118"
      },
      "execution_count": 18,
      "outputs": [
        {
          "output_type": "stream",
          "name": "stdout",
          "text": [
            "%23OurBelovedSeulgiDay\n",
            "%23%E4%B9%83%E6%9C%A8%E5%9D%8246ANN\n",
            "%23%EB%98%91%EB%98%91_%EC%8A%AC%EA%B8%B0%EC%83%9D%EC%9D%BC%EC%9D%B8%EA%B0%80%EC%9A%94_%EB%84%A4%EB%A7%9E%EC%8A%B5%EB%8B%88%EB%8B%BF\n",
            "%23SamsungUnpacked\n",
            "%23LUCAS\n",
            "%22Wordle+236%22\n",
            "%2224TH+DONNY+DAY+SALUBONG%22\n",
            "%22HAN+AND+SEUNGMIN+ZOMBIE+COVER%22\n",
            "%E5%88%9D%E6%9C%9F%E3%82%AD%E3%83%A3%E3%83%A9\n",
            "%E6%9E%9C%E5%8D%97%E3%81%A1%E3%82%83%E3%82%93\n"
          ]
        }
      ]
    },
    {
      "cell_type": "code",
      "source": [
        "world_trends = set([trend['name'] \n",
        "                        for trend in world_trends[0]['trends']])\n",
        "\n",
        "us_trends = set([trend['name'] \n",
        "                     for trend in us_trends[0]['trends']]) \n",
        "\n",
        "world_trends ##This is the world trends "
      ],
      "metadata": {
        "colab": {
          "base_uri": "https://localhost:8080/"
        },
        "id": "UvuS3BG3VhU8",
        "outputId": "623b9a06-c1f5-4966-980b-515847ac15c7"
      },
      "execution_count": 19,
      "outputs": [
        {
          "output_type": "execute_result",
          "data": {
            "text/plain": [
              "{'#DonnyTurnsTwentyFour',\n",
              " '#GalaxyS22',\n",
              " '#GalaxyUnpacked',\n",
              " '#LUCAS',\n",
              " '#NCTzenSelcaDay',\n",
              " '#NationalPizzaDay',\n",
              " '#OurBelovedSeulgiDay',\n",
              " '#RB18',\n",
              " '#RoadToTwentyFourWithDONNY',\n",
              " '#SM_PROTECT_NINGNING',\n",
              " '#SamsungUnpacked',\n",
              " '#SeungSungSKZrecord',\n",
              " '#tamamenduygusal',\n",
              " '#الهلال_تشيلسي',\n",
              " '#ハッチポッチステーション',\n",
              " '#乃木坂46ANN',\n",
              " '#宵崎奏誕生祭2022',\n",
              " '#松浦果南生誕祭2022',\n",
              " '#똑똑_슬기생일인가요_네맞습니닿',\n",
              " '24TH DONNY DAY SALUBONG',\n",
              " 'Adrilles',\n",
              " 'BE TOGETHER BE BLUE',\n",
              " 'BE WITH TREASURE',\n",
              " 'Dolly Parton',\n",
              " 'HAN AND SEUNGMIN ZOMBIE COVER',\n",
              " 'HRCのロゴ',\n",
              " 'Jovem Pan',\n",
              " 'JÃO IDIOTA',\n",
              " 'OUR SUNSHINE IS BACK',\n",
              " 'Prasidh Krishna',\n",
              " 'SNOWDROP GLOBAL RELEASE',\n",
              " 'TVer回し民',\n",
              " 'Wordle 236',\n",
              " 'ちはやふる',\n",
              " 'まいちゅん',\n",
              " 'クインテット',\n",
              " 'コレナンデ商会',\n",
              " 'コントロール',\n",
              " 'ニンダイ',\n",
              " '初期キャラ',\n",
              " '埼玉県知事',\n",
              " '奏ちゃん',\n",
              " '奏誕生日',\n",
              " '新内さん',\n",
              " '果南ちゃん',\n",
              " '玲香さん',\n",
              " '第20回',\n",
              " '꼬들 40',\n",
              " '뮤지컬 배우',\n",
              " '황대헌 선수'}"
            ]
          },
          "metadata": {},
          "execution_count": 19
        }
      ]
    }
  ]
}