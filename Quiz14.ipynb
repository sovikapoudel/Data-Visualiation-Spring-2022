{
  "nbformat": 4,
  "nbformat_minor": 0,
  "metadata": {
    "colab": {
      "name": "Quiz14.ipynb",
      "provenance": [],
      "authorship_tag": "ABX9TyNBXvRwXuk+1CnLSAuBTDmX",
      "include_colab_link": true
    },
    "kernelspec": {
      "name": "python3",
      "display_name": "Python 3"
    },
    "language_info": {
      "name": "python"
    }
  },
  "cells": [
    {
      "cell_type": "markdown",
      "metadata": {
        "id": "view-in-github",
        "colab_type": "text"
      },
      "source": [
        "<a href=\"https://colab.research.google.com/github/sovikapoudel/Data-Visualiation-Spring-2022/blob/main/Quiz14.ipynb\" target=\"_parent\"><img src=\"https://colab.research.google.com/assets/colab-badge.svg\" alt=\"Open In Colab\"/></a>"
      ]
    },
    {
      "cell_type": "code",
      "execution_count": null,
      "metadata": {
        "id": "mvg6GCDY9CEJ"
      },
      "outputs": [],
      "source": [
        ""
      ]
    },
    {
      "cell_type": "markdown",
      "source": [
        "#String"
      ],
      "metadata": {
        "id": "EV3LAefY9IB6"
      }
    },
    {
      "cell_type": "code",
      "source": [
        "hbd=\"Happy Birthday to you!\"\n",
        "greet= \"Happy Birthday Dear\"\n",
        "name= input (\"Enter your name: \")"
      ],
      "metadata": {
        "colab": {
          "base_uri": "https://localhost:8080/"
        },
        "id": "fUUL7lQw9MUK",
        "outputId": "dca6c2fe-5dbc-4f32-be5d-40b7107448e1"
      },
      "execution_count": 86,
      "outputs": [
        {
          "name": "stdout",
          "output_type": "stream",
          "text": [
            "Enter your name: Sovika\n"
          ]
        }
      ]
    },
    {
      "cell_type": "code",
      "source": [
        "print (hbd +\" \\n\"+ hbd+\" \\n\"+ greet +\" \"+ name+\"\\n\" + hbd)\n",
        " "
      ],
      "metadata": {
        "colab": {
          "base_uri": "https://localhost:8080/"
        },
        "id": "UdDKupQ79UG6",
        "outputId": "bbc0332c-b6f5-4c66-f14c-d5383e041bd6"
      },
      "execution_count": 87,
      "outputs": [
        {
          "output_type": "stream",
          "name": "stdout",
          "text": [
            "Happy Birthday to you! \n",
            "Happy Birthday to you! \n",
            "Happy Birthday Dear Sovika\n",
            "Happy Birthday to you!\n"
          ]
        }
      ]
    },
    {
      "cell_type": "markdown",
      "source": [
        "I am doing it other way in next part which is more code for this task but if the song was a page longer and goes in multiple loops and needed to print multiple tines then using a range key would be a better choice."
      ],
      "metadata": {
        "id": "dusiLSUUGN_2"
      }
    },
    {
      "cell_type": "code",
      "source": [
        "hb = \"Happy Birthday to you!\\n\"\n",
        "greet = \"Dear Sovika \\n\"\n",
        "for line in range(1):\n",
        "  song = hb * 3 + greet*1 + hb #this doesnot work quite \n",
        "  print(song)"
      ],
      "metadata": {
        "colab": {
          "base_uri": "https://localhost:8080/"
        },
        "id": "Q2OHiSNMEHpB",
        "outputId": "b3fa6392-7278-4561-eab9-e2eea9852503"
      },
      "execution_count": 98,
      "outputs": [
        {
          "output_type": "stream",
          "name": "stdout",
          "text": [
            "Happy Birthday to you!\n",
            "Happy Birthday to you!\n",
            "Happy Birthday to you!\n",
            "Dear Sovika \n",
            "Happy Birthday to you!\n",
            "\n"
          ]
        }
      ]
    }
  ]
}