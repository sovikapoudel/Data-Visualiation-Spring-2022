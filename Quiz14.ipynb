{
  "nbformat": 4,
  "nbformat_minor": 0,
  "metadata": {
    "colab": {
      "name": "Quiz14.ipynb",
      "provenance": [],
      "authorship_tag": "ABX9TyOTZref23ukRfs+XQjRj400",
      "include_colab_link": true
    },
    "kernelspec": {
      "name": "python3",
      "display_name": "Python 3"
    },
    "language_info": {
      "name": "python"
    }
  },
  "cells": [
    {
      "cell_type": "markdown",
      "metadata": {
        "id": "view-in-github",
        "colab_type": "text"
      },
      "source": [
        "<a href=\"https://colab.research.google.com/github/sovikapoudel/Data-Visualiation-Spring-2022/blob/main/Quiz14.ipynb\" target=\"_parent\"><img src=\"https://colab.research.google.com/assets/colab-badge.svg\" alt=\"Open In Colab\"/></a>"
      ]
    },
    {
      "cell_type": "code",
      "execution_count": null,
      "metadata": {
        "id": "mvg6GCDY9CEJ"
      },
      "outputs": [],
      "source": [
        ""
      ]
    },
    {
      "cell_type": "markdown",
      "source": [
        "#String"
      ],
      "metadata": {
        "id": "EV3LAefY9IB6"
      }
    },
    {
      "cell_type": "code",
      "source": [
        "hbd=\"Happy Birthday to you!\"\n",
        "greet= \"Happy Birthday Dear\"\n",
        "name= input (\"Enter your name: \" )"
      ],
      "metadata": {
        "colab": {
          "base_uri": "https://localhost:8080/"
        },
        "id": "fUUL7lQw9MUK",
        "outputId": "ef381bd0-eee3-45fd-bd46-4d190bf63a32"
      },
      "execution_count": 80,
      "outputs": [
        {
          "name": "stdout",
          "output_type": "stream",
          "text": [
            "Enter your name: Sovika\n"
          ]
        }
      ]
    },
    {
      "cell_type": "code",
      "source": [
        "print (hbd +\" \\n\"+ hbd+\" \\n\"+ greet +\" \"+ name+\"\\n\" + hbd)\n",
        " "
      ],
      "metadata": {
        "colab": {
          "base_uri": "https://localhost:8080/"
        },
        "id": "UdDKupQ79UG6",
        "outputId": "68c4703a-c3b9-445f-eb41-a311a0fddc3f"
      },
      "execution_count": 81,
      "outputs": [
        {
          "output_type": "stream",
          "name": "stdout",
          "text": [
            "Happy Birthday to you! \n",
            "Happy Birthday to you! \n",
            "Happy Birthday Dear Sovika\n",
            "Happy Birthday to you!\n"
          ]
        }
      ]
    },
    {
      "cell_type": "markdown",
      "source": [
        "I am doing it other way in next part which is more code for this task but if the song was a page longer and goes in multiple loops then using a range key would be a better choice."
      ],
      "metadata": {
        "id": "dusiLSUUGN_2"
      }
    },
    {
      "cell_type": "code",
      "source": [
        "hb = \"Happy Birthday to you!\\n\"\n",
        "greet = \"Dear Sovika \"\n",
        "for line in range(1):\n",
        "  song = hb * 2 + greet + hb\n",
        "  print(song)"
      ],
      "metadata": {
        "colab": {
          "base_uri": "https://localhost:8080/"
        },
        "id": "Q2OHiSNMEHpB",
        "outputId": "47e66b4f-795e-4550-c971-1f7a4865dfd5"
      },
      "execution_count": 70,
      "outputs": [
        {
          "output_type": "stream",
          "name": "stdout",
          "text": [
            "Happy Birthday to you!\n",
            "Happy Birthday to you!\n",
            "Dear Sovika Happy Birthday to you!\n",
            "\n"
          ]
        }
      ]
    }
  ]
}