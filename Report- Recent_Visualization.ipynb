{
  "nbformat": 4,
  "nbformat_minor": 0,
  "metadata": {
    "colab": {
      "name": "Recent Visualization- Project Proposal.ipynb",
      "provenance": [],
      "collapsed_sections": [],
      "authorship_tag": "ABX9TyMjuU1LCr99jCIVpZcSh3Fg",
      "include_colab_link": true
    },
    "kernelspec": {
      "name": "python3",
      "display_name": "Python 3"
    },
    "language_info": {
      "name": "python"
    }
  },
  "cells": [
    {
      "cell_type": "markdown",
      "metadata": {
        "id": "view-in-github",
        "colab_type": "text"
      },
      "source": [
        "<a href=\"https://colab.research.google.com/github/sovikapoudel/Data-Visualiation-Spring-2022/blob/main/Report-%20Recent_Visualization.ipynb\" target=\"_parent\"><img src=\"https://colab.research.google.com/assets/colab-badge.svg\" alt=\"Open In Colab\"/></a>"
      ]
    },
    {
      "cell_type": "markdown",
      "source": [
        "#**Housing Market in Raliegh, North Carolina**\n",
        "##Name: Sovika Poudel\n",
        "##ECU ID: 268598\n",
        "##Course ID:  CPMSA 4321, Data Processing and Visualization\n",
        "##Professor: Dr. Nicholas Jacob\n",
        "\n",
        "\n",
        "\n"
      ],
      "metadata": {
        "id": "svoux4ThRugw"
      }
    },
    {
      "cell_type": "markdown",
      "source": [
        ">Abstract: This part of project contains the information regarding the Housing market in Raliegh metro area. The Visualization presented on here shows the housing trend in wake county of Raliegh, North Carolina. The boom is especially in Triangle Area.\n",
        "###North Carolina's Research Triangle Park known as RTP is a something of a counterpoise to Silicon Valley about how to foster innovation. House Market is Surging by 14%. This could be because of numbers of big corporate headquater growing on those areas on the top of this Economy Inflaction.\n",
        "\n"
      ],
      "metadata": {
        "id": "zRGXhoSth-ce"
      }
    },
    {
      "cell_type": "markdown",
      "source": [
        "### As most of my class mates are in IT filed and Raleigh is an emerging IT hub so there is a chance alot of us could ended up in that area. I have seen so many ECU Alumni in the linked-in are currently residing in those Area. And Housing Price not only affect the mortgage but the Rent as well."
      ],
      "metadata": {
        "id": "dYA3xcuklhoK"
      }
    },
    {
      "cell_type": "markdown",
      "source": [
        "<img src='https://24j1q8gzma4rsuat1tbzospi-wpengine.netdna-ssl.com/wp-content/uploads/2021/12/Wake_County_RE_Median_Sales_Price_2021_Monthly_Register_of_Deeds_data-1024x526.png'>"
      ],
      "metadata": {
        "id": "sL6XYh79aIlJ"
      }
    },
    {
      "cell_type": "markdown",
      "source": [
        "<img src = 'https://www.cbs17.com/wp-content/uploads/sites/29/2021/05/Screen-Shot-2021-05-26-at-4.21.15-PM-1.png?resize=2048,1146' >"
      ],
      "metadata": {
        "id": "IPjx9BTIjpqt"
      }
    },
    {
      "cell_type": "markdown",
      "source": [
        "###However, This both graphs represents the timely topiic as housing market has been soaring all around the United States. \"WRAL News traced the direct impact of Apple's announcement on the price and availability of homes in the Triangle during the past 12 months\"\n",
        "\n",
        "###As per the local news from Research Triangle Park (RTP) area, April 29, 2022 7:28 p.m. EDT; Since there are multiple IT companies growing the housing price is still surging these days. Apple is launching another headquater so there has been called 'The Apple Effect'  where the median sales price of homes near those are area, RTP are shooting up as high as 53%. \n",
        "\n",
        "\n",
        "###Also, according to Zillow, the price of the house last April was USD 289,000 Due to the Apple effect the value jumped $23,000 the month after Apple's announcement of launching a headquater. 23000 in a month of a terrible increase in amount for the housing market."
      ],
      "metadata": {
        "id": "YG618KxmWkdt"
      }
    },
    {
      "cell_type": "markdown",
      "source": [
        "###The first graph above explained the median sales price for a real estate in Wake County which was USD 405,000 in Nov 2021 and increase by $76,250 above the median price in 2021. The price is an approximate change of 23.2% in less than a year. The x-axis shows the Monthly timeline and the y-axis is showing the price data. This visuallization meet some level of graphical excellence and integrity as it is easy to read, the variables are nicely placed and highlighted. No unnecessary use of legend or colors has been used."
      ],
      "metadata": {
        "id": "DmuImCAphHFP"
      }
    },
    {
      "cell_type": "markdown",
      "source": [
        "###In the second graph, the visualization is very clean and easy to understand. However it is missing alot of datas. It is only taking abaout the percentage but missing the actual figure and real data. In the website it has mentioned the median real estate price in Raleigh was $352,250 last month, up 14 percent from April 2020, according to Redfin.com but such figure are missing in the visualization. But after reading the artical, the visualization helps alot to understand and interpret.\n",
        "\n",
        "###Even the price this high and still surging, the ones for sale are getting snatched up within a days with the median time of 34 days on the market. And that 34 days includes all the New Constructions as well as old. The market is so competitive where there has been offer system even in the New Constructions homes.\n",
        "\n",
        "###Both of these visualization are totally different but at the same time they are related and can relate the same topic, the price rise and market surge. The difference is they are completely different visualization. One of them is using a actual number while other one is using  a percentage value."
      ],
      "metadata": {
        "id": "19DzCwy6mgGn"
      }
    },
    {
      "cell_type": "markdown",
      "source": [
        "###Refrences:\n",
        "\n",
        "1. https://wraltechwire.com/2021/12/14/median-price-of-wake-county-real-estate-hit-new-high-in-november-405000/\n",
        "\n",
        "2. https://www.cbs17.com/news/local-news/a-boom-but-not-a-bubble-a-closer-look-at-the-triangles-rising-housing-prices/\n",
        "\n",
        "3. https://www.wral.com/the-apple-effect-median-sales-price-of-homes-near-rtp-shoot-as-high-as-53/20258659/\n",
        "\n",
        "4. https://wraltechwire.com/2021/12/14/median-price-of-wake-county-real-estate-hit-new-high-in-november-405000/\n",
        "\n"
      ],
      "metadata": {
        "id": "-E0AMdNySroF"
      }
    }
  ]
}