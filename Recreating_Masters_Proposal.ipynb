{
  "nbformat": 4,
  "nbformat_minor": 0,
  "metadata": {
    "colab": {
      "name": "Recreating Masters Proposal.ipynb",
      "provenance": [],
      "authorship_tag": "ABX9TyMSvRcVRX3fPETy0MTYHWaO",
      "include_colab_link": true
    },
    "kernelspec": {
      "name": "python3",
      "display_name": "Python 3"
    },
    "language_info": {
      "name": "python"
    }
  },
  "cells": [
    {
      "cell_type": "markdown",
      "metadata": {
        "id": "view-in-github",
        "colab_type": "text"
      },
      "source": [
        "<a href=\"https://colab.research.google.com/github/sovikapoudel/Data-Visualiation-Spring-2022/blob/main/Recreating_Masters_Proposal.ipynb\" target=\"_parent\"><img src=\"https://colab.research.google.com/assets/colab-badge.svg\" alt=\"Open In Colab\"/></a>"
      ]
    },
    {
      "cell_type": "markdown",
      "source": [
        ">Abstract: Recreating a Master, Project on Covid-19 vaccination. Covid 19 is still a hot topic and one of the leading cause of death in whole world. It is really hard to predict when it is going to stop or slow down as throughout the years, new varient are always emerging. So, the vaccination is still a important topic to discuss about. \n",
        "This Project will demonstrate which part of the world are mostly vaccinated. \n",
        "https://covid19.who.int/data\n",
        "\n",
        "###The Visualization I am recreating can be found on multiple website. It is in CBC news website and Southeast Asia And Covid-19. Link are attached below respectively.\n",
        "\n",
        " https://www.cbc.ca/news/health/canada-vaccine-first-dose-1.6060834\n",
        "\n",
        " https://southeastasiacovid.asiasociety.org/southeast-asia-and-covid-19-vaccines-explained/"
      ],
      "metadata": {
        "id": "sJeczHhP1-HO"
      }
    },
    {
      "cell_type": "markdown",
      "source": [
        "<img src = \" https://southeastasiacovid.asiasociety.org/wp-content/uploads/2021/06/Coronavirus-vaccine-Single-Dose-chart-World.png\">"
      ],
      "metadata": {
        "id": "RcTm7No9B8lv"
      }
    },
    {
      "cell_type": "markdown",
      "source": [
        "#The download link for the Vaccination data is \n",
        "https://covid19.who.int/who-data/vaccination-data.csv"
      ],
      "metadata": {
        "id": "SDb39QG818Aq"
      }
    },
    {
      "cell_type": "markdown",
      "source": [
        "###This would be an example of excellence visualization because with the help of this data and visualization we can get to know how effectively the vaccines are working, where are we in terms of vaccination and so on. This visualization has been presented using a line graph which makes viewer easier to read and analyse the data. There has been used of several colors for diffrent countries for clear understanding. Also, looking at the information provided in the graph, I can tell this has presented the G7 Countries data. I will be focusing on on those countries as well."
      ],
      "metadata": {
        "id": "U9d-iTCnAnqx"
      }
    }
  ]
}