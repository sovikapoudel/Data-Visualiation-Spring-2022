{
  "nbformat": 4,
  "nbformat_minor": 0,
  "metadata": {
    "colab": {
      "name": "Project Proposal.ipynb",
      "provenance": [],
      "collapsed_sections": [],
      "include_colab_link": true
    },
    "kernelspec": {
      "name": "python3",
      "display_name": "Python 3"
    },
    "language_info": {
      "name": "python"
    }
  },
  "cells": [
    {
      "cell_type": "markdown",
      "metadata": {
        "id": "view-in-github",
        "colab_type": "text"
      },
      "source": [
        "<a href=\"https://colab.research.google.com/github/sovikapoudel/Data-Visualiation-Spring-2022/blob/main/Project_Proposal.ipynb\" target=\"_parent\"><img src=\"https://colab.research.google.com/assets/colab-badge.svg\" alt=\"Open In Colab\"/></a>"
      ]
    },
    {
      "cell_type": "markdown",
      "source": [
        "#**East Central University**\n",
        "##Name: Sovika Poudel\n",
        "##ECU ID: 268598\n",
        "##Course ID:  CPMSA 4321, Data Processing and Visualization\n",
        "##Professor: Dr. Nicholas Jacob\n",
        "\n",
        "\n",
        "\n"
      ],
      "metadata": {
        "id": "svoux4ThRugw"
      }
    },
    {
      "cell_type": "markdown",
      "source": [
        ">Abstract: This part of project contains the information regarding the Housing market in Raliegh metro area. The Visualization presented on here shows the housing trend in wake county of Raliegh, North Carolina. The boom is especially in Triangle Area. This data is based on April 2020.\n",
        "\n",
        "\n"
      ],
      "metadata": {
        "id": "zRGXhoSth-ce"
      }
    },
    {
      "cell_type": "markdown",
      "source": [
        "## North Carolina's Research Triangle Park known as RTP is a something of a counterpoise to Silicon Valley about how to foster innovation. House Market is Surging by 14%. This could be because of numbers of big corporate headquater growing on those areas on the top of this Economy Inflaction."
      ],
      "metadata": {
        "id": "phM40vM1t56W"
      }
    },
    {
      "cell_type": "markdown",
      "source": [
        "## As most of my class mates are in IT filed and Raleigh is an emerging IT hub so there is a chance alot of us could ended up in that area. I have seen so many ECU Alumni in the linked-in are currently residing in those Area. And Housing Price not only affect the mortgage but the Rent as well."
      ],
      "metadata": {
        "id": "dYA3xcuklhoK"
      }
    },
    {
      "cell_type": "markdown",
      "source": [
        "<img src='https://24j1q8gzma4rsuat1tbzospi-wpengine.netdna-ssl.com/wp-content/uploads/2021/12/Wake_County_RE_Median_Sales_Price_2021_Monthly_Register_of_Deeds_data-1024x526.png'>"
      ],
      "metadata": {
        "id": "sL6XYh79aIlJ"
      }
    },
    {
      "cell_type": "markdown",
      "source": [
        "<img src = 'https://www.cbs17.com/wp-content/uploads/sites/29/2021/05/Screen-Shot-2021-05-26-at-4.21.15-PM-1.png?resize=2048,1146' >"
      ],
      "metadata": {
        "id": "IPjx9BTIjpqt"
      }
    },
    {
      "cell_type": "markdown",
      "source": [
        "#The median real estate price in Raleigh was $352,250 last month, up 14 percent from April 2020, according to Redfin.com. \n",
        "# Even the price this high and still surging, the ones for sale are getting snatched up within a days with the median time of 34 days on the market. And that 34 days includes all the New Constructions as well as Old. The market is so competitive where there has been offer system even in the New Constructions homes. "
      ],
      "metadata": {
        "id": "19DzCwy6mgGn"
      }
    }
  ]
}