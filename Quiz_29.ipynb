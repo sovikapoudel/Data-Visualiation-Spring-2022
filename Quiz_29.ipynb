{
  "nbformat": 4,
  "nbformat_minor": 0,
  "metadata": {
    "colab": {
      "name": "Quiz 29.ipynb",
      "provenance": [],
      "authorship_tag": "ABX9TyOtXrfsuiAt4Cbfe435JIvy",
      "include_colab_link": true
    },
    "kernelspec": {
      "name": "python3",
      "display_name": "Python 3"
    },
    "language_info": {
      "name": "python"
    }
  },
  "cells": [
    {
      "cell_type": "markdown",
      "metadata": {
        "id": "view-in-github",
        "colab_type": "text"
      },
      "source": [
        "<a href=\"https://colab.research.google.com/github/sovikapoudel/Data-Visualiation-Spring-2022/blob/main/Quiz_29.ipynb\" target=\"_parent\"><img src=\"https://colab.research.google.com/assets/colab-badge.svg\" alt=\"Open In Colab\"/></a>"
      ]
    },
    {
      "cell_type": "markdown",
      "source": [
        "Explain the difference between standard error and confidence intervals.\n"
      ],
      "metadata": {
        "id": "RjTPUs3b8IwD"
      }
    },
    {
      "cell_type": "markdown",
      "source": [
        "##Standard Deviation is used to define the variation of data  while the standard error defines the variation of the sample mean.We use standard Deviation ho find out how widely scattered the measurement of data are. Whereas the standard error is used as a mean to calculate confidence interval, it is mostly used for the comparasion and testing of the sample mean. mea                                                                                                                                                                                                                                                                                                                                                                                                               "
      ],
      "metadata": {
        "id": "U9Y0r-G38G49"
      }
    },
    {
      "cell_type": "markdown",
      "source": [
        "Use the workout data and graph the average calories by workout type and include the 95% confidence interval."
      ],
      "metadata": {
        "id": "mXXfkVT_8TnK"
      }
    },
    {
      "cell_type": "code",
      "source": [
        "import pandas as pd\n",
        "df = pd.read_csv('https://raw.githubusercontent.com/nurfnick/Data_Viz/main/iris.csv')"
      ],
      "metadata": {
        "id": "xahYrEQ6argW"
      },
      "execution_count": 1,
      "outputs": []
    }
  ]
}